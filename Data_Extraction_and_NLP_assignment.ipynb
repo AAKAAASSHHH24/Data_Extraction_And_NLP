{
  "nbformat": 4,
  "nbformat_minor": 0,
  "metadata": {
    "colab": {
      "provenance": [],
      "mount_file_id": "1C-UAqVAX-lZo1Qrf_Quc3x8tVvOAO5P6",
      "authorship_tag": "ABX9TyPZTMseR8m9+cbVZfKuhEZN",
      "include_colab_link": true
    },
    "kernelspec": {
      "name": "python3",
      "display_name": "Python 3"
    },
    "language_info": {
      "name": "python"
    },
    "gpuClass": "standard"
  },
  "cells": [
    {
      "cell_type": "markdown",
      "metadata": {
        "id": "view-in-github",
        "colab_type": "text"
      },
      "source": [
        "<a href=\"https://colab.research.google.com/github/AAKAAASSHHH24/Data_Extraction_And_NLP/blob/main/Data_Extraction_and_NLP_assignment.ipynb\" target=\"_parent\"><img src=\"https://colab.research.google.com/assets/colab-badge.svg\" alt=\"Open In Colab\"/></a>"
      ]
    },
    {
      "cell_type": "code",
      "execution_count": null,
      "metadata": {
        "colab": {
          "base_uri": "https://localhost:8080/"
        },
        "id": "l0LQPZDO_haw",
        "outputId": "e755973c-2654-45ed-f1dc-411415d655b8"
      },
      "outputs": [
        {
          "output_type": "stream",
          "name": "stdout",
          "text": [
            "Drive already mounted at /content/drive; to attempt to forcibly remount, call drive.mount(\"/content/drive\", force_remount=True).\n"
          ]
        }
      ],
      "source": [
        "from google.colab import drive\n",
        "drive.mount('/content/drive')"
      ]
    },
    {
      "cell_type": "code",
      "source": [
        "import os\n",
        "ROOT = \"/content/drive/MyDrive/BlackCoffer\"\n",
        "os.chdir(ROOT)"
      ],
      "metadata": {
        "id": "9RJYGddAC3CR"
      },
      "execution_count": null,
      "outputs": []
    },
    {
      "cell_type": "code",
      "source": [
        "import pandas as pd\n",
        "import numpy as np\n"
      ],
      "metadata": {
        "id": "YUyS9WUcDml1"
      },
      "execution_count": null,
      "outputs": []
    },
    {
      "cell_type": "code",
      "source": [
        "# Using Selenium to extract contents from the websites\n",
        "!pip install selenium\n",
        "from selenium.webdriver.chrome.service import Service\n",
        "!pip install webdriver_manager"
      ],
      "metadata": {
        "id": "_8CGbR99aw9W",
        "colab": {
          "base_uri": "https://localhost:8080/",
          "height": 990
        },
        "outputId": "4e1ed7c3-7c3a-4dad-aaac-5d3e87b6db2f"
      },
      "execution_count": null,
      "outputs": [
        {
          "output_type": "stream",
          "name": "stdout",
          "text": [
            "Looking in indexes: https://pypi.org/simple, https://us-python.pkg.dev/colab-wheels/public/simple/\n",
            "Requirement already satisfied: selenium in /usr/local/lib/python3.8/dist-packages (4.7.2)\n",
            "Requirement already satisfied: trio-websocket~=0.9 in /usr/local/lib/python3.8/dist-packages (from selenium) (0.9.2)\n",
            "Requirement already satisfied: trio~=0.17 in /usr/local/lib/python3.8/dist-packages (from selenium) (0.22.0)\n",
            "Collecting urllib3[socks]~=1.26\n",
            "  Using cached urllib3-1.26.13-py2.py3-none-any.whl (140 kB)\n",
            "Requirement already satisfied: certifi>=2021.10.8 in /usr/local/lib/python3.8/dist-packages (from selenium) (2022.12.7)\n",
            "Requirement already satisfied: outcome in /usr/local/lib/python3.8/dist-packages (from trio~=0.17->selenium) (1.2.0)\n",
            "Requirement already satisfied: idna in /usr/local/lib/python3.8/dist-packages (from trio~=0.17->selenium) (2.10)\n",
            "Requirement already satisfied: sniffio in /usr/local/lib/python3.8/dist-packages (from trio~=0.17->selenium) (1.3.0)\n",
            "Requirement already satisfied: async-generator>=1.9 in /usr/local/lib/python3.8/dist-packages (from trio~=0.17->selenium) (1.10)\n",
            "Requirement already satisfied: attrs>=19.2.0 in /usr/local/lib/python3.8/dist-packages (from trio~=0.17->selenium) (22.1.0)\n",
            "Requirement already satisfied: sortedcontainers in /usr/local/lib/python3.8/dist-packages (from trio~=0.17->selenium) (2.4.0)\n",
            "Requirement already satisfied: exceptiongroup>=1.0.0rc9 in /usr/local/lib/python3.8/dist-packages (from trio~=0.17->selenium) (1.1.0)\n",
            "Requirement already satisfied: wsproto>=0.14 in /usr/local/lib/python3.8/dist-packages (from trio-websocket~=0.9->selenium) (1.2.0)\n",
            "Requirement already satisfied: PySocks!=1.5.7,<2.0,>=1.5.6 in /usr/local/lib/python3.8/dist-packages (from urllib3[socks]~=1.26->selenium) (1.7.1)\n",
            "Requirement already satisfied: h11<1,>=0.9.0 in /usr/local/lib/python3.8/dist-packages (from wsproto>=0.14->trio-websocket~=0.9->selenium) (0.14.0)\n",
            "Installing collected packages: urllib3\n",
            "  Attempting uninstall: urllib3\n",
            "    Found existing installation: urllib3 1.25.11\n",
            "    Uninstalling urllib3-1.25.11:\n",
            "      Successfully uninstalled urllib3-1.25.11\n",
            "\u001b[31mERROR: pip's dependency resolver does not currently take into account all the packages that are installed. This behaviour is the source of the following dependency conflicts.\n",
            "requests 2.23.0 requires urllib3!=1.25.0,!=1.25.1,<1.26,>=1.21.1, but you have urllib3 1.26.13 which is incompatible.\u001b[0m\n",
            "Successfully installed urllib3-1.26.13\n"
          ]
        },
        {
          "output_type": "display_data",
          "data": {
            "application/vnd.colab-display-data+json": {
              "pip_warning": {
                "packages": [
                  "urllib3"
                ]
              }
            }
          },
          "metadata": {}
        },
        {
          "output_type": "stream",
          "name": "stdout",
          "text": [
            "Looking in indexes: https://pypi.org/simple, https://us-python.pkg.dev/colab-wheels/public/simple/\n",
            "Requirement already satisfied: webdriver_manager in /usr/local/lib/python3.8/dist-packages (3.8.5)\n",
            "Requirement already satisfied: python-dotenv in /usr/local/lib/python3.8/dist-packages (from webdriver_manager) (0.21.0)\n",
            "Requirement already satisfied: tqdm in /usr/local/lib/python3.8/dist-packages (from webdriver_manager) (4.64.1)\n",
            "Requirement already satisfied: packaging in /usr/local/lib/python3.8/dist-packages (from webdriver_manager) (21.3)\n",
            "Requirement already satisfied: requests in /usr/local/lib/python3.8/dist-packages (from webdriver_manager) (2.23.0)\n",
            "Requirement already satisfied: pyparsing!=3.0.5,>=2.0.2 in /usr/local/lib/python3.8/dist-packages (from packaging->webdriver_manager) (3.0.9)\n",
            "Requirement already satisfied: idna<3,>=2.5 in /usr/local/lib/python3.8/dist-packages (from requests->webdriver_manager) (2.10)\n",
            "Requirement already satisfied: chardet<4,>=3.0.2 in /usr/local/lib/python3.8/dist-packages (from requests->webdriver_manager) (3.0.4)\n",
            "Collecting urllib3!=1.25.0,!=1.25.1,<1.26,>=1.21.1\n",
            "  Using cached urllib3-1.25.11-py2.py3-none-any.whl (127 kB)\n",
            "Requirement already satisfied: certifi>=2017.4.17 in /usr/local/lib/python3.8/dist-packages (from requests->webdriver_manager) (2022.12.7)\n",
            "Installing collected packages: urllib3\n",
            "  Attempting uninstall: urllib3\n",
            "    Found existing installation: urllib3 1.26.13\n",
            "    Uninstalling urllib3-1.26.13:\n",
            "      Successfully uninstalled urllib3-1.26.13\n",
            "\u001b[31mERROR: pip's dependency resolver does not currently take into account all the packages that are installed. This behaviour is the source of the following dependency conflicts.\n",
            "selenium 4.7.2 requires urllib3[socks]~=1.26, but you have urllib3 1.25.11 which is incompatible.\u001b[0m\n",
            "Successfully installed urllib3-1.25.11\n"
          ]
        },
        {
          "output_type": "display_data",
          "data": {
            "application/vnd.colab-display-data+json": {
              "pip_warning": {
                "packages": [
                  "urllib3"
                ]
              }
            }
          },
          "metadata": {}
        }
      ]
    },
    {
      "cell_type": "code",
      "source": [
        "# We will use BeautifulSoup to read the html contents"
      ],
      "metadata": {
        "id": "ArYkUTqfKIyE"
      },
      "execution_count": null,
      "outputs": []
    },
    {
      "cell_type": "code",
      "source": [
        "from selenium.webdriver.support.ui import WebDriverWait\n",
        "from selenium.webdriver.support import expected_conditions as EC\n",
        "from bs4 import BeautifulSoup\n",
        "import codecs\n",
        "import re\n",
        "from webdriver_manager.chrome import ChromeDriverManager\n",
        "#from selenium.webdriver.chrome.service import Service"
      ],
      "metadata": {
        "id": "0yOpWZjPgcF9",
        "colab": {
          "base_uri": "https://localhost:8080/"
        },
        "outputId": "6ea9cef4-dc1d-4ca1-8f64-2ec3384c9ccc"
      },
      "execution_count": null,
      "outputs": [
        {
          "output_type": "stream",
          "name": "stderr",
          "text": [
            "/usr/local/lib/python3.8/dist-packages/requests/__init__.py:89: RequestsDependencyWarning: urllib3 (1.26.13) or chardet (3.0.4) doesn't match a supported version!\n",
            "  warnings.warn(\"urllib3 ({}) or chardet ({}) doesn't match a supported \"\n"
          ]
        }
      ]
    },
    {
      "cell_type": "code",
      "source": [
        "!apt-get update \n",
        "!apt install chromium-chromedriver\n",
        "\n",
        "from selenium import webdriver\n",
        "chrome_options = webdriver.ChromeOptions()\n",
        "chrome_options.add_argument('--headless')\n",
        "chrome_options.add_argument('--no-sandbox')\n",
        "chrome_options.add_argument('--disable-dev-shm-usage')\n",
        "driver = webdriver.Chrome('chromedriver',chrome_options=chrome_options)\n",
        "#driver=webdriver.Chrome(service=Service(ChromeDriverManager().install()))"
      ],
      "metadata": {
        "colab": {
          "base_uri": "https://localhost:8080/"
        },
        "id": "CSDJh8gyf-9C",
        "outputId": "2b70a8d3-c95e-471f-9a5d-d3cbd7dfc67e"
      },
      "execution_count": null,
      "outputs": [
        {
          "output_type": "stream",
          "name": "stdout",
          "text": [
            "\r0% [Working]\r            \rGet:1 http://security.ubuntu.com/ubuntu bionic-security InRelease [88.7 kB]\n",
            "\r0% [Waiting for headers] [1 InRelease 14.2 kB/88.7 kB 16%] [Connecting to cloud\r                                                                               \rHit:2 http://archive.ubuntu.com/ubuntu bionic InRelease\n",
            "\r0% [Waiting for headers] [1 InRelease 88.7 kB/88.7 kB 100%] [Connecting to clou\r                                                                               \rGet:3 http://archive.ubuntu.com/ubuntu bionic-updates InRelease [88.7 kB]\n",
            "\r0% [3 InRelease 79.3 kB/88.7 kB 89%] [Connected to cloud.r-project.org (108.138\r0% [2 InRelease gpgv 242 kB] [3 InRelease 79.3 kB/88.7 kB 89%] [Connected to cl\r0% [2 InRelease gpgv 242 kB] [Connected to cloud.r-project.org (108.138.64.40)]\r                                                                               \rGet:4 http://archive.ubuntu.com/ubuntu bionic-backports InRelease [83.3 kB]\n",
            "Get:5 https://cloud.r-project.org/bin/linux/ubuntu bionic-cran40/ InRelease [3,626 B]\n",
            "Get:6 http://ppa.launchpad.net/c2d4u.team/c2d4u4.0+/ubuntu bionic InRelease [15.9 kB]\n",
            "Hit:7 http://ppa.launchpad.net/cran/libgit2/ubuntu bionic InRelease\n",
            "Hit:8 http://ppa.launchpad.net/deadsnakes/ppa/ubuntu bionic InRelease\n",
            "Hit:9 http://ppa.launchpad.net/graphics-drivers/ppa/ubuntu bionic InRelease\n",
            "Ign:10 https://developer.download.nvidia.com/compute/machine-learning/repos/ubuntu1804/x86_64  InRelease\n",
            "Hit:11 https://developer.download.nvidia.com/compute/cuda/repos/ubuntu1804/x86_64  InRelease\n",
            "Hit:12 https://developer.download.nvidia.com/compute/machine-learning/repos/ubuntu1804/x86_64  Release\n",
            "Get:13 http://ppa.launchpad.net/c2d4u.team/c2d4u4.0+/ubuntu bionic/main Sources [2,237 kB]\n",
            "Get:14 http://ppa.launchpad.net/c2d4u.team/c2d4u4.0+/ubuntu bionic/main amd64 Packages [1,144 kB]\n",
            "Fetched 3,662 kB in 4s (979 kB/s)\n",
            "Reading package lists... Done\n",
            "Reading package lists... Done\n",
            "Building dependency tree       \n",
            "Reading state information... Done\n",
            "The following package was automatically installed and is no longer required:\n",
            "  libnvidia-common-460\n",
            "Use 'apt autoremove' to remove it.\n",
            "The following additional packages will be installed:\n",
            "  chromium-browser chromium-browser-l10n chromium-codecs-ffmpeg-extra\n",
            "Suggested packages:\n",
            "  webaccounts-chromium-extension unity-chromium-extension\n",
            "The following NEW packages will be installed:\n",
            "  chromium-browser chromium-browser-l10n chromium-chromedriver\n",
            "  chromium-codecs-ffmpeg-extra\n",
            "0 upgraded, 4 newly installed, 0 to remove and 20 not upgraded.\n",
            "Need to get 95.6 MB of archives.\n",
            "After this operation, 321 MB of additional disk space will be used.\n",
            "Get:1 http://archive.ubuntu.com/ubuntu bionic-updates/universe amd64 chromium-codecs-ffmpeg-extra amd64 108.0.5359.71-0ubuntu0.18.04.5 [1,159 kB]\n",
            "Get:2 http://archive.ubuntu.com/ubuntu bionic-updates/universe amd64 chromium-browser amd64 108.0.5359.71-0ubuntu0.18.04.5 [83.6 MB]\n",
            "Get:3 http://archive.ubuntu.com/ubuntu bionic-updates/universe amd64 chromium-browser-l10n all 108.0.5359.71-0ubuntu0.18.04.5 [5,230 kB]\n",
            "Get:4 http://archive.ubuntu.com/ubuntu bionic-updates/universe amd64 chromium-chromedriver amd64 108.0.5359.71-0ubuntu0.18.04.5 [5,594 kB]\n",
            "Fetched 95.6 MB in 2s (43.6 MB/s)\n",
            "Selecting previously unselected package chromium-codecs-ffmpeg-extra.\n",
            "(Reading database ... 124016 files and directories currently installed.)\n",
            "Preparing to unpack .../chromium-codecs-ffmpeg-extra_108.0.5359.71-0ubuntu0.18.04.5_amd64.deb ...\n",
            "Unpacking chromium-codecs-ffmpeg-extra (108.0.5359.71-0ubuntu0.18.04.5) ...\n",
            "Selecting previously unselected package chromium-browser.\n",
            "Preparing to unpack .../chromium-browser_108.0.5359.71-0ubuntu0.18.04.5_amd64.deb ...\n",
            "Unpacking chromium-browser (108.0.5359.71-0ubuntu0.18.04.5) ...\n",
            "Selecting previously unselected package chromium-browser-l10n.\n",
            "Preparing to unpack .../chromium-browser-l10n_108.0.5359.71-0ubuntu0.18.04.5_all.deb ...\n",
            "Unpacking chromium-browser-l10n (108.0.5359.71-0ubuntu0.18.04.5) ...\n",
            "Selecting previously unselected package chromium-chromedriver.\n",
            "Preparing to unpack .../chromium-chromedriver_108.0.5359.71-0ubuntu0.18.04.5_amd64.deb ...\n",
            "Unpacking chromium-chromedriver (108.0.5359.71-0ubuntu0.18.04.5) ...\n",
            "Setting up chromium-codecs-ffmpeg-extra (108.0.5359.71-0ubuntu0.18.04.5) ...\n",
            "Setting up chromium-browser (108.0.5359.71-0ubuntu0.18.04.5) ...\n",
            "update-alternatives: using /usr/bin/chromium-browser to provide /usr/bin/x-www-browser (x-www-browser) in auto mode\n",
            "update-alternatives: using /usr/bin/chromium-browser to provide /usr/bin/gnome-www-browser (gnome-www-browser) in auto mode\n",
            "Setting up chromium-chromedriver (108.0.5359.71-0ubuntu0.18.04.5) ...\n",
            "Setting up chromium-browser-l10n (108.0.5359.71-0ubuntu0.18.04.5) ...\n",
            "Processing triggers for man-db (2.8.3-2ubuntu0.1) ...\n",
            "Processing triggers for hicolor-icon-theme (0.17-2) ...\n",
            "Processing triggers for mime-support (3.60ubuntu1) ...\n",
            "Processing triggers for libc-bin (2.27-3ubuntu1.6) ...\n"
          ]
        },
        {
          "output_type": "stream",
          "name": "stderr",
          "text": [
            "<ipython-input-6-52d3d6fb019c>:9: DeprecationWarning: use options instead of chrome_options\n",
            "  driver = webdriver.Chrome('chromedriver',chrome_options=chrome_options)\n"
          ]
        }
      ]
    },
    {
      "cell_type": "code",
      "source": [
        "!pwd"
      ],
      "metadata": {
        "colab": {
          "base_uri": "https://localhost:8080/"
        },
        "id": "SHuWU7t7XnGQ",
        "outputId": "da45916e-ddf8-42f7-806e-70fd470bbda1"
      },
      "execution_count": null,
      "outputs": [
        {
          "output_type": "stream",
          "name": "stdout",
          "text": [
            "/content/drive/MyDrive/BlackCoffer\n"
          ]
        }
      ]
    },
    {
      "cell_type": "code",
      "source": [
        "with open('Input.xlsx', 'rb') as f:\n",
        "        data = pd.read_excel(f)\n",
        "data"
      ],
      "metadata": {
        "colab": {
          "base_uri": "https://localhost:8080/",
          "height": 424
        },
        "id": "tKyTGb1SFY5u",
        "outputId": "1b1d647e-2358-4d0b-fe67-0d4ac0c283cb"
      },
      "execution_count": null,
      "outputs": [
        {
          "output_type": "execute_result",
          "data": {
            "text/plain": [
              "     URL_ID                                                URL\n",
              "0      37.0  https://insights.blackcoffer.com/ai-in-healthc...\n",
              "1      38.0  https://insights.blackcoffer.com/what-if-the-c...\n",
              "2      39.0  https://insights.blackcoffer.com/what-jobs-wil...\n",
              "3      40.0  https://insights.blackcoffer.com/will-machine-...\n",
              "4      41.0  https://insights.blackcoffer.com/will-ai-repla...\n",
              "..      ...                                                ...\n",
              "109   146.0  https://insights.blackcoffer.com/blockchain-fo...\n",
              "110   147.0  https://insights.blackcoffer.com/the-future-of...\n",
              "111   148.0  https://insights.blackcoffer.com/big-data-anal...\n",
              "112   149.0  https://insights.blackcoffer.com/business-anal...\n",
              "113   150.0  https://insights.blackcoffer.com/challenges-an...\n",
              "\n",
              "[114 rows x 2 columns]"
            ],
            "text/html": [
              "\n",
              "  <div id=\"df-d45ce5a1-770f-4327-ad40-8bf8d179d752\">\n",
              "    <div class=\"colab-df-container\">\n",
              "      <div>\n",
              "<style scoped>\n",
              "    .dataframe tbody tr th:only-of-type {\n",
              "        vertical-align: middle;\n",
              "    }\n",
              "\n",
              "    .dataframe tbody tr th {\n",
              "        vertical-align: top;\n",
              "    }\n",
              "\n",
              "    .dataframe thead th {\n",
              "        text-align: right;\n",
              "    }\n",
              "</style>\n",
              "<table border=\"1\" class=\"dataframe\">\n",
              "  <thead>\n",
              "    <tr style=\"text-align: right;\">\n",
              "      <th></th>\n",
              "      <th>URL_ID</th>\n",
              "      <th>URL</th>\n",
              "    </tr>\n",
              "  </thead>\n",
              "  <tbody>\n",
              "    <tr>\n",
              "      <th>0</th>\n",
              "      <td>37.0</td>\n",
              "      <td>https://insights.blackcoffer.com/ai-in-healthc...</td>\n",
              "    </tr>\n",
              "    <tr>\n",
              "      <th>1</th>\n",
              "      <td>38.0</td>\n",
              "      <td>https://insights.blackcoffer.com/what-if-the-c...</td>\n",
              "    </tr>\n",
              "    <tr>\n",
              "      <th>2</th>\n",
              "      <td>39.0</td>\n",
              "      <td>https://insights.blackcoffer.com/what-jobs-wil...</td>\n",
              "    </tr>\n",
              "    <tr>\n",
              "      <th>3</th>\n",
              "      <td>40.0</td>\n",
              "      <td>https://insights.blackcoffer.com/will-machine-...</td>\n",
              "    </tr>\n",
              "    <tr>\n",
              "      <th>4</th>\n",
              "      <td>41.0</td>\n",
              "      <td>https://insights.blackcoffer.com/will-ai-repla...</td>\n",
              "    </tr>\n",
              "    <tr>\n",
              "      <th>...</th>\n",
              "      <td>...</td>\n",
              "      <td>...</td>\n",
              "    </tr>\n",
              "    <tr>\n",
              "      <th>109</th>\n",
              "      <td>146.0</td>\n",
              "      <td>https://insights.blackcoffer.com/blockchain-fo...</td>\n",
              "    </tr>\n",
              "    <tr>\n",
              "      <th>110</th>\n",
              "      <td>147.0</td>\n",
              "      <td>https://insights.blackcoffer.com/the-future-of...</td>\n",
              "    </tr>\n",
              "    <tr>\n",
              "      <th>111</th>\n",
              "      <td>148.0</td>\n",
              "      <td>https://insights.blackcoffer.com/big-data-anal...</td>\n",
              "    </tr>\n",
              "    <tr>\n",
              "      <th>112</th>\n",
              "      <td>149.0</td>\n",
              "      <td>https://insights.blackcoffer.com/business-anal...</td>\n",
              "    </tr>\n",
              "    <tr>\n",
              "      <th>113</th>\n",
              "      <td>150.0</td>\n",
              "      <td>https://insights.blackcoffer.com/challenges-an...</td>\n",
              "    </tr>\n",
              "  </tbody>\n",
              "</table>\n",
              "<p>114 rows × 2 columns</p>\n",
              "</div>\n",
              "      <button class=\"colab-df-convert\" onclick=\"convertToInteractive('df-d45ce5a1-770f-4327-ad40-8bf8d179d752')\"\n",
              "              title=\"Convert this dataframe to an interactive table.\"\n",
              "              style=\"display:none;\">\n",
              "        \n",
              "  <svg xmlns=\"http://www.w3.org/2000/svg\" height=\"24px\"viewBox=\"0 0 24 24\"\n",
              "       width=\"24px\">\n",
              "    <path d=\"M0 0h24v24H0V0z\" fill=\"none\"/>\n",
              "    <path d=\"M18.56 5.44l.94 2.06.94-2.06 2.06-.94-2.06-.94-.94-2.06-.94 2.06-2.06.94zm-11 1L8.5 8.5l.94-2.06 2.06-.94-2.06-.94L8.5 2.5l-.94 2.06-2.06.94zm10 10l.94 2.06.94-2.06 2.06-.94-2.06-.94-.94-2.06-.94 2.06-2.06.94z\"/><path d=\"M17.41 7.96l-1.37-1.37c-.4-.4-.92-.59-1.43-.59-.52 0-1.04.2-1.43.59L10.3 9.45l-7.72 7.72c-.78.78-.78 2.05 0 2.83L4 21.41c.39.39.9.59 1.41.59.51 0 1.02-.2 1.41-.59l7.78-7.78 2.81-2.81c.8-.78.8-2.07 0-2.86zM5.41 20L4 18.59l7.72-7.72 1.47 1.35L5.41 20z\"/>\n",
              "  </svg>\n",
              "      </button>\n",
              "      \n",
              "  <style>\n",
              "    .colab-df-container {\n",
              "      display:flex;\n",
              "      flex-wrap:wrap;\n",
              "      gap: 12px;\n",
              "    }\n",
              "\n",
              "    .colab-df-convert {\n",
              "      background-color: #E8F0FE;\n",
              "      border: none;\n",
              "      border-radius: 50%;\n",
              "      cursor: pointer;\n",
              "      display: none;\n",
              "      fill: #1967D2;\n",
              "      height: 32px;\n",
              "      padding: 0 0 0 0;\n",
              "      width: 32px;\n",
              "    }\n",
              "\n",
              "    .colab-df-convert:hover {\n",
              "      background-color: #E2EBFA;\n",
              "      box-shadow: 0px 1px 2px rgba(60, 64, 67, 0.3), 0px 1px 3px 1px rgba(60, 64, 67, 0.15);\n",
              "      fill: #174EA6;\n",
              "    }\n",
              "\n",
              "    [theme=dark] .colab-df-convert {\n",
              "      background-color: #3B4455;\n",
              "      fill: #D2E3FC;\n",
              "    }\n",
              "\n",
              "    [theme=dark] .colab-df-convert:hover {\n",
              "      background-color: #434B5C;\n",
              "      box-shadow: 0px 1px 3px 1px rgba(0, 0, 0, 0.15);\n",
              "      filter: drop-shadow(0px 1px 2px rgba(0, 0, 0, 0.3));\n",
              "      fill: #FFFFFF;\n",
              "    }\n",
              "  </style>\n",
              "\n",
              "      <script>\n",
              "        const buttonEl =\n",
              "          document.querySelector('#df-d45ce5a1-770f-4327-ad40-8bf8d179d752 button.colab-df-convert');\n",
              "        buttonEl.style.display =\n",
              "          google.colab.kernel.accessAllowed ? 'block' : 'none';\n",
              "\n",
              "        async function convertToInteractive(key) {\n",
              "          const element = document.querySelector('#df-d45ce5a1-770f-4327-ad40-8bf8d179d752');\n",
              "          const dataTable =\n",
              "            await google.colab.kernel.invokeFunction('convertToInteractive',\n",
              "                                                     [key], {});\n",
              "          if (!dataTable) return;\n",
              "\n",
              "          const docLinkHtml = 'Like what you see? Visit the ' +\n",
              "            '<a target=\"_blank\" href=https://colab.research.google.com/notebooks/data_table.ipynb>data table notebook</a>'\n",
              "            + ' to learn more about interactive tables.';\n",
              "          element.innerHTML = '';\n",
              "          dataTable['output_type'] = 'display_data';\n",
              "          await google.colab.output.renderOutput(dataTable, element);\n",
              "          const docLink = document.createElement('div');\n",
              "          docLink.innerHTML = docLinkHtml;\n",
              "          element.appendChild(docLink);\n",
              "        }\n",
              "      </script>\n",
              "    </div>\n",
              "  </div>\n",
              "  "
            ]
          },
          "metadata": {},
          "execution_count": 8
        }
      ]
    },
    {
      "cell_type": "code",
      "source": [
        "# function to get the source of the webpage\n",
        "def get_page_source(web):\n",
        "  wait = WebDriverWait(driver, 10)\n",
        "  driver.get(web)\n",
        "  get_url = driver.current_url\n",
        "  wait.until(EC.url_to_be(web))\n",
        "\n",
        "\n",
        "  if get_url == web:\n",
        "    page_source = driver.page_source\n",
        "    return page_source"
      ],
      "metadata": {
        "id": "36CdgQi3hB4I"
      },
      "execution_count": null,
      "outputs": []
    },
    {
      "cell_type": "code",
      "source": [
        "# function to get texr from the webpage\n",
        "def get_text(page_source):\n",
        "  soup = BeautifulSoup(page_source,\"html.parser\")\n",
        "\n",
        "  text = soup.find_all('p')\n",
        "\n",
        "  return text"
      ],
      "metadata": {
        "id": "-DjggaD3GHh9"
      },
      "execution_count": null,
      "outputs": []
    },
    {
      "cell_type": "code",
      "source": [
        "# function to filter out the unwanted text from the text\n",
        "def preprocess_content(text):\n",
        "  content = []\n",
        "  paras = len(text)\n",
        "  for i in range(paras):\n",
        "    soup2 = BeautifulSoup(str(text[i]), 'html.parser')\n",
        "    content.append(re.sub('\\xa0', '', soup2.get_text()))\n",
        "  return content"
      ],
      "metadata": {
        "id": "r3dCsy2Vm7C2"
      },
      "execution_count": null,
      "outputs": []
    },
    {
      "cell_type": "code",
      "source": [
        "# Create a directory for the article files if it doesn't already exist\n",
        "def create_directory():\n",
        "  if not os.path.exists(\"articles\"):\n",
        "      os.makedirs(\"articles\")"
      ],
      "metadata": {
        "id": "RoQvsOuXr9kf"
      },
      "execution_count": null,
      "outputs": []
    },
    {
      "cell_type": "code",
      "source": [
        "# Save the article text to a file\n",
        "def save_text_file(text,content,article_id):\n",
        "  paras = len(text)\n",
        "  if not os.path.exists(f\"articles/{article_id}.txt\"):\n",
        "    with open(f\"articles/{article_id}.txt\", \"w\") as f:\n",
        "      for i in range(paras):\n",
        "        f.write(content[i])"
      ],
      "metadata": {
        "id": "fXSkRr9qtAyb"
      },
      "execution_count": null,
      "outputs": []
    },
    {
      "cell_type": "code",
      "source": [
        "from typing_extensions import dataclass_transform\n",
        "def run_processes():\n",
        "  for index, row in data.iterrows():\n",
        "    # Access data for each column by column name\n",
        "    article_id = data['URL_ID'][index]\n",
        "    WEB =data['URL'][index]\n",
        "    page_source = get_page_source(WEB)\n",
        "    text = get_text(page_source)\n",
        "    content = preprocess_content(text)\n",
        "    create_directory()\n",
        "    save_text_file(text,content,article_id)"
      ],
      "metadata": {
        "id": "Gfwn6dM62kf7"
      },
      "execution_count": null,
      "outputs": []
    },
    {
      "cell_type": "code",
      "source": [
        "run_processes()"
      ],
      "metadata": {
        "id": "kA6HFLPSSdQJ"
      },
      "execution_count": null,
      "outputs": []
    },
    {
      "cell_type": "markdown",
      "source": [
        "**TEXT ANALYSIS**"
      ],
      "metadata": {
        "id": "X6Cbz271rjEo"
      }
    },
    {
      "cell_type": "code",
      "source": [
        "os.listdir()"
      ],
      "metadata": {
        "id": "RCWbgFLTbP-W",
        "colab": {
          "base_uri": "https://localhost:8080/"
        },
        "outputId": "aa23085d-b9ac-4ebe-d93a-1fadd1481df9"
      },
      "execution_count": null,
      "outputs": [
        {
          "output_type": "execute_result",
          "data": {
            "text/plain": [
              "['Input.xlsx',\n",
              " 'StopWords-20221226T201449Z-001.zip',\n",
              " 'MasterDictionary-20221226T201605Z-001.zip',\n",
              " 'articles',\n",
              " 'StopWords',\n",
              " 'MasterDictionary']"
            ]
          },
          "metadata": {},
          "execution_count": 15
        }
      ]
    },
    {
      "cell_type": "code",
      "source": [
        "#!unzip StopWords-20221226T201449Z-001.zip"
      ],
      "metadata": {
        "colab": {
          "base_uri": "https://localhost:8080/"
        },
        "id": "gLmEFknTxCKU",
        "outputId": "9c0415bf-ea8c-4634-cd5d-9bf6638bd133"
      },
      "execution_count": null,
      "outputs": [
        {
          "output_type": "stream",
          "name": "stdout",
          "text": [
            "Archive:  StopWords-20221226T201449Z-001.zip\n",
            "  inflating: StopWords/StopWords_Geographic.txt  \n",
            "  inflating: StopWords/StopWords_Currencies.txt  \n",
            "  inflating: StopWords/StopWords_GenericLong.txt  \n",
            "  inflating: StopWords/StopWords_Generic.txt  \n",
            "  inflating: StopWords/StopWords_Auditor.txt  \n",
            "  inflating: StopWords/StopWords_Names.txt  \n",
            "  inflating: StopWords/StopWords_DatesandNumbers.txt  \n"
          ]
        }
      ]
    },
    {
      "cell_type": "code",
      "source": [
        "#!unzip MasterDictionary-20221226T201605Z-001.zip"
      ],
      "metadata": {
        "colab": {
          "base_uri": "https://localhost:8080/"
        },
        "id": "dKV2-EFfxOBW",
        "outputId": "482e0a21-2388-4c95-d8df-a695ea971178"
      },
      "execution_count": null,
      "outputs": [
        {
          "output_type": "stream",
          "name": "stdout",
          "text": [
            "Archive:  MasterDictionary-20221226T201605Z-001.zip\n",
            "  inflating: MasterDictionary/negative-words.txt  \n",
            "  inflating: MasterDictionary/positive-words.txt  \n"
          ]
        }
      ]
    },
    {
      "cell_type": "code",
      "source": [
        "os.chdir('/content/drive/MyDrive/BlackCoffer')"
      ],
      "metadata": {
        "id": "_zfgVYVpZfLC"
      },
      "execution_count": null,
      "outputs": []
    },
    {
      "cell_type": "code",
      "source": [
        "os.chdir('StopWords')\n",
        "stopwords_type = os.listdir()\n",
        "stopwords_type"
      ],
      "metadata": {
        "colab": {
          "base_uri": "https://localhost:8080/"
        },
        "id": "qDqq1GnAxjp1",
        "outputId": "304dc854-ba82-40e3-b6da-21088b363b75"
      },
      "execution_count": null,
      "outputs": [
        {
          "output_type": "execute_result",
          "data": {
            "text/plain": [
              "['StopWords_Names.txt',\n",
              " 'StopWords_Geographic.txt',\n",
              " 'StopWords_GenericLong.txt',\n",
              " 'StopWords_DatesandNumbers.txt',\n",
              " 'StopWords_Currencies.txt',\n",
              " 'StopWords_Auditor.txt',\n",
              " 'StopWords_Generic.txt']"
            ]
          },
          "metadata": {},
          "execution_count": 17
        }
      ]
    },
    {
      "cell_type": "code",
      "source": [
        "import chardet\n",
        "stop_words = []\n",
        "for i in stopwords_type:\n",
        "  #print('start')\n",
        "  with open(i , \"rb\") as f:\n",
        "    contents = f.read()\n",
        "    encoding = chardet.detect(contents)[\"encoding\"]\n",
        "  with open(i , \"r\", encoding = encoding) as f:\n",
        "    l =   f.read().split()\n",
        "  stop_words = stop_words+l\n",
        "stop_words"
      ],
      "metadata": {
        "id": "LYc1AKGwzjnH"
      },
      "execution_count": null,
      "outputs": []
    },
    {
      "cell_type": "code",
      "source": [
        "# nltk\n",
        "import nltk\n",
        "from nltk.corpus import stopwords\n",
        "from  nltk.stem import SnowballStemmer\n",
        "import re"
      ],
      "metadata": {
        "id": "Lwk3_gT8xMb5"
      },
      "execution_count": null,
      "outputs": []
    },
    {
      "cell_type": "code",
      "source": [
        "nltk.download('stopwords')\n",
        "stopwords = stopwords.words(\"english\")\n",
        "stopwords"
      ],
      "metadata": {
        "id": "CxSRhMVyjVDJ"
      },
      "execution_count": null,
      "outputs": []
    },
    {
      "cell_type": "code",
      "source": [
        "print(len(stopwords))\n",
        "print(len(stop_words))\n",
        "stopwords = stopwords + stop_words\n",
        "print(len(stopwords))"
      ],
      "metadata": {
        "colab": {
          "base_uri": "https://localhost:8080/"
        },
        "id": "ZYFEpol4h-SQ",
        "outputId": "c4ca6f85-91ef-45f3-c2fe-415401b9fb97"
      },
      "execution_count": null,
      "outputs": [
        {
          "output_type": "stream",
          "name": "stdout",
          "text": [
            "179\n",
            "14336\n",
            "14515\n"
          ]
        }
      ]
    },
    {
      "cell_type": "code",
      "source": [
        "CLEAN_TEXT = \"@\\S+|https?:\\S+|http?:\\S|[^A-Za-z0-9]+\"\n",
        "stemmer = SnowballStemmer(\"english\")\n",
        "def preprocess(text, stem=False):\n",
        "    # Remove link,user and special characters\n",
        "    text = re.sub(CLEAN_TEXT, ' ', str(text).lower()).strip()\n",
        "    filtered_words = [word for word in text.split() if word.lower() not in stopwords]\n",
        "    tokens = []\n",
        "    for token in filtered_words:\n",
        "        if token not in stopwords:\n",
        "            if stem:\n",
        "                tokens.append(stemmer.stem(token))\n",
        "            else:\n",
        "                tokens.append(token)\n",
        "    return \" \".join(tokens)"
      ],
      "metadata": {
        "id": "RQ_kqK_vhdLM"
      },
      "execution_count": null,
      "outputs": []
    },
    {
      "cell_type": "code",
      "source": [
        "os.chdir('/content/drive/MyDrive/BlackCoffer/articles')"
      ],
      "metadata": {
        "id": "84X4kmnzyw7u"
      },
      "execution_count": null,
      "outputs": []
    },
    {
      "cell_type": "code",
      "source": [
        "# read content from the text file\n",
        "def read_para(text_file):\n",
        "  with open( text_file, \"rb\") as f:\n",
        "   contents = f.read()\n",
        "  return contents"
      ],
      "metadata": {
        "id": "6WeTcuS31MfR"
      },
      "execution_count": null,
      "outputs": []
    },
    {
      "cell_type": "code",
      "source": [
        "# get contents of each text file in the form of dictionary\n",
        "def get_contents():\n",
        "  os.chdir('/content/drive/MyDrive/BlackCoffer/articles')\n",
        "  contents = {}\n",
        "  for i in range(len(os.listdir())):\n",
        "    contents[i] = read_para(os.listdir()[i])\n",
        "    contents[i]  = str(contents[i] )\n",
        "    contents[i] = contents[i].replace('\\\\xe2', ' ')\n",
        "    contents[i]  = contents[i].replace('\\\\x80', ' ')\n",
        "    contents[i]  = contents[i].replace('\\\\x99', ' ')\n",
        "    contents[i]  = contents[i].replace('\\\\xa6', ' ')\n",
        "    contents[i]  = contents[i].replace('\\\\x93', ' ')\n",
        "    contents[i] = preprocess(contents[i])\n",
        "\n",
        "    i+=1\n",
        "\n",
        "  return contents"
      ],
      "metadata": {
        "id": "rPhxUT6TrSPJ"
      },
      "execution_count": null,
      "outputs": []
    },
    {
      "cell_type": "code",
      "source": [
        "# number of words in in text file in the form of a list\n",
        "def number_of_words(contents):\n",
        "  os.chdir('/content/drive/MyDrive/BlackCoffer/articles')\n",
        "  num_words = []\n",
        "  for i in range(len(os.listdir())):\n",
        "    k = contents[i].split()\n",
        "    num_words.append(len(k))\n",
        "    i+=1\n",
        "   \n",
        "  return num_words"
      ],
      "metadata": {
        "id": "9j75y3nej27k"
      },
      "execution_count": null,
      "outputs": []
    },
    {
      "cell_type": "code",
      "source": [
        "# number of personal pronouns in each text file in the form of a list\n",
        "def personal_pronouns():\n",
        "  os.chdir('/content/drive/MyDrive/BlackCoffer/articles')\n",
        "  contents = {}\n",
        "  num_personal_pronouns=[]\n",
        "  for i in range(len(os.listdir())):\n",
        "    contents[i] = read_para(os.listdir()[i])\n",
        "    contents[i] = str(contents[i])\n",
        "    q = len([element for element in contents[i].split() if element in [\"I\",\"you\"  ,                                                                                      \"you\" ,\n",
        "                                                                                        \"he\" ,\"she\",\n",
        "                                                                                        \"it\", \"we\", \n",
        "                                                                                        \"they\", \n",
        "                                                                                        \"them\", \n",
        "                                                                                        \"us\", \n",
        "                                                                                        \"him\", \n",
        "                                                                                        \"her\", \n",
        "                                                                                        \"his\", \n",
        "                                                                                        \"hers\", \n",
        "                                                                                        \"its\", \n",
        "                                                                                        \"theirs\", \n",
        "                                                                                        \"our\", \"your\"]])\n",
        "    num_personal_pronouns.append(q)\n",
        "    i+=1\n",
        "  return num_personal_pronouns\n"
      ],
      "metadata": {
        "id": "yVMfTbgZv_qo"
      },
      "execution_count": null,
      "outputs": []
    },
    {
      "cell_type": "code",
      "source": [
        "# number of sentences in each text file in the form of a list\n",
        "def num_sentences():\n",
        "  os.chdir('/content/drive/MyDrive/BlackCoffer/articles')\n",
        "  contents = {}\n",
        "  num_sentences =[]\n",
        "  for i in range(len(os.listdir())):\n",
        "    contents[i] = read_para(os.listdir()[i])\n",
        "    contents[i] = str(contents[i]) \n",
        "    sentences = contents[i].split('. ') \n",
        "    sentences = [sentences[j] for j in range(len(sentences))]   \n",
        "    num_sentences.append(len(sentences))\n",
        "\n",
        "    i+=1\n",
        "\n",
        "  return num_sentences  \n"
      ],
      "metadata": {
        "id": "M2hNVU5y4NFb"
      },
      "execution_count": null,
      "outputs": []
    },
    {
      "cell_type": "code",
      "source": [
        "# read text file linewise\n",
        "def read_text(filename):\n",
        "    with open(filename, 'rb') as f:\n",
        "        contents = f.readlines()\n",
        "        #words = contents.split('\\n')\n",
        "    return contents\n"
      ],
      "metadata": {
        "id": "bjaJAbUY_lvZ"
      },
      "execution_count": null,
      "outputs": []
    },
    {
      "cell_type": "code",
      "source": [
        "# extract the list of positive and negative words from the master dictionary\n",
        "def words_type():\n",
        "  path = '/content/drive/MyDrive/BlackCoffer/MasterDictionary'\n",
        "  os.chdir(path)\n",
        "  positive_words, negative_words = read_text(os.listdir()[0]),read_text(os.listdir()[1])\n",
        "  positive_words = [str(positive_words[i])[2:-3] for i in range(len(positive_words))]\n",
        "  negative_words = [str(negative_words[i])[2:-3] for i in range(len(negative_words))]\n",
        "  return positive_words,negative_words"
      ],
      "metadata": {
        "id": "Zf53HcBEaban"
      },
      "execution_count": null,
      "outputs": []
    },
    {
      "cell_type": "code",
      "source": [
        "positive_words, negative_words = words_type()"
      ],
      "metadata": {
        "id": "UFL_ZyXU6M1O"
      },
      "execution_count": null,
      "outputs": []
    },
    {
      "cell_type": "markdown",
      "source": [
        "## **Calculating Scores**"
      ],
      "metadata": {
        "id": "p-qc0b_5NXYn"
      }
    },
    {
      "cell_type": "code",
      "source": [
        "# calculate positive and negative score of all articles, return in the form of a list\n",
        "def score(list1, contents):\n",
        "  score = []\n",
        "  for i in range(len(contents)):\n",
        "    common_elements =[]\n",
        "    current = contents[i].split()\n",
        "    common_elements= [element for element in list1 if element in current]\n",
        "  \n",
        "    score.append(len(common_elements))\n",
        "    i+=1\n",
        "\n",
        "  return score"
      ],
      "metadata": {
        "id": "zNaUaCKVOUbP"
      },
      "execution_count": null,
      "outputs": []
    },
    {
      "cell_type": "code",
      "source": [
        "def get_positive_score(contents):\n",
        "  positive_words, negative_words = words_type()\n",
        "  positive_score = score(positive_words, contents)\n",
        "  return positive_score"
      ],
      "metadata": {
        "id": "NgwhqhlSYmfA"
      },
      "execution_count": null,
      "outputs": []
    },
    {
      "cell_type": "code",
      "source": [
        "def get_negative_score(contents):\n",
        "  positive_words, negative_words = words_type()\n",
        "  negative_score = score(negative_words, contents)\n",
        "  return negative_score"
      ],
      "metadata": {
        "id": "d9xH5xBAY6Mi"
      },
      "execution_count": null,
      "outputs": []
    },
    {
      "cell_type": "code",
      "source": [
        "# polarity scores of all articles int he form of text\n",
        "def polarity(positive_score, negative_score):\n",
        "  os.chdir('/content/drive/MyDrive/BlackCoffer/articles')\n",
        "  polarity = []\n",
        "  for i in range(len(os.listdir())):\n",
        "    polarity.append((positive_score[i]-negative_score[i])/((positive_score[i]+negative_score[i]) + .000001))\n",
        "    i+=1\n",
        "  \n",
        "  return polarity"
      ],
      "metadata": {
        "id": "FV89hEPEZVBx"
      },
      "execution_count": null,
      "outputs": []
    },
    {
      "cell_type": "code",
      "source": [
        "# average sentence length of each text file in the form of a list\n",
        "def avg_sentence_length(num_words, num_sentence):\n",
        "\n",
        "  os.chdir('/content/drive/MyDrive/BlackCoffer/articles')\n",
        "  avg_sent_len = []\n",
        "  for i in range(len(os.listdir())):\n",
        "\n",
        "    avg_sent_len.append(num_words[i]/num_sentence[i])\n",
        "\n",
        "    i+=1 \n",
        "  return avg_sent_len"
      ],
      "metadata": {
        "id": "1fQ1SR5JntpQ"
      },
      "execution_count": null,
      "outputs": []
    },
    {
      "cell_type": "code",
      "source": [
        "# subjectivity of each article\n",
        "def subjectivity (positive_score, negative_score,number_of_words):\n",
        "  subjectivity = []\n",
        "  os.chdir('/content/drive/MyDrive/BlackCoffer/articles')\n",
        "  for i in range(len(os.listdir())):\n",
        "    subjectivity.append((positive_score[i] + negative_score[i])/ (number_of_words[i] + 0.000001))\n",
        "\n",
        "    i+=1\n",
        "\n",
        "  return subjectivity"
      ],
      "metadata": {
        "id": "afByNzxGbXy6"
      },
      "execution_count": null,
      "outputs": []
    },
    {
      "cell_type": "code",
      "source": [
        "# calculate number of syllables in each word\n",
        "def count_syllables(word):\n",
        "  syllables = [element for element in [word[i] for i in range(len(word))] if element in ['a','e','i','o','u'] ]\n",
        "  number_of_syllables = len(syllables)\n",
        "  try:\n",
        "\n",
        "    if word[-1] == 'e':\n",
        "      number_of_syllables = number_of_syllables -1\n",
        "\n",
        "    if word[-2:] == 'le' or word[-3:]=='les':\n",
        "      if word[-3] not in ['a','e','i','o','u']:\n",
        "        number_of_syllables = number_of_syllables + 1\n",
        "\n",
        "    if word[-2:] == 'es' or 'ed':\n",
        "      number_of_syllables = number_of_syllables -1\n",
        "  \n",
        "  except Exception as e:\n",
        "    pass\n",
        "   \n",
        "\n",
        "\n",
        "  return len(syllables)\n",
        "    "
      ],
      "metadata": {
        "id": "0LN_TtZ5Swzi"
      },
      "execution_count": null,
      "outputs": []
    },
    {
      "cell_type": "code",
      "source": [
        "# count number of complex words in each article\n",
        "def count_complex_words(contents):\n",
        "  complex_word_count={}\n",
        "  os.chdir('/content/drive/MyDrive/BlackCoffer/articles')\n",
        "  for i in range(len(contents)):\n",
        "      complex_word_count[i] = 0\n",
        "      for word in contents[i].split():\n",
        "          if count_syllables(word) > 2:\n",
        "              complex_word_count[i] += 1\n",
        "      i+=1\n",
        "  \n",
        "  return complex_word_count\n",
        "    "
      ],
      "metadata": {
        "id": "W7-SKp-hkO5t"
      },
      "execution_count": null,
      "outputs": []
    },
    {
      "cell_type": "code",
      "source": [
        " #percentage of complex words   \n",
        "def complex_percentage(number_of_complex_words,number_of_words):\n",
        "  percent_complex =[]\n",
        "\n",
        "  os.chdir('/content/drive/MyDrive/BlackCoffer/articles')\n",
        "  for i in range(len(os.listdir())):\n",
        "    try:\n",
        "      percent_complex.append((number_of_complex_words[i]/number_of_words[i])*100)\n",
        "    except Exception as e:\n",
        "      percent_complex.append(0)\n",
        "\n",
        "    i+=1\n",
        "  \n",
        "  return percent_complex"
      ],
      "metadata": {
        "id": "o1nDun5Q8iAu"
      },
      "execution_count": null,
      "outputs": []
    },
    {
      "cell_type": "code",
      "source": [
        "# fog index of each article\n",
        "def fog_index(avg_sentence_length,percent_complex):\n",
        "  Fog_Index =[]\n",
        "  os.chdir('/content/drive/MyDrive/BlackCoffer/articles')\n",
        "\n",
        "  for i in range(len(os.listdir())):\n",
        "    p = 0.4 * (avg_sentence_length[i] + percent_complex[i])\n",
        "    Fog_Index.append(p)\n",
        "    i+=1\n",
        "  \n",
        "  return Fog_Index"
      ],
      "metadata": {
        "id": "uKrJM0u_oi20"
      },
      "execution_count": null,
      "outputs": []
    },
    {
      "cell_type": "code",
      "source": [
        "# number of syllable per word\n",
        "def syllable_per_word(contents, number):\n",
        "  syllable_per_word=[]\n",
        "\n",
        "  for i in range(len(number)) :\n",
        "    count = 0\n",
        "    current = contents[i].split()\n",
        "    for j in range(len(current)):\n",
        "      syl = count_syllables(current[j])\n",
        "      count= count+syl\n",
        "      j+=1\n",
        "    try:\n",
        "      syllable_per_word.append(count/number[i])\n",
        "    except Exception as e:\n",
        "      syllable_per_word.append('0')     \n",
        "    i+=1\n",
        "\n",
        "  return syllable_per_word"
      ],
      "metadata": {
        "id": "eZkdvsF-pUvI"
      },
      "execution_count": null,
      "outputs": []
    },
    {
      "cell_type": "code",
      "source": [
        "# average word length of each article\n",
        "def avg_word_length(contents, number):\n",
        "  avg_word_len=[]\n",
        "  for i in range(len(number)):\n",
        "    count = 0\n",
        "    current = contents[i].split()\n",
        "    for j in range(len(current)):\n",
        "     count = count + len(current[j])\n",
        "     j+=1\n",
        "    try:\n",
        "     avg_word_len.append(count/number[i])\n",
        "    except Exception as e:\n",
        "      avg_word_len.append('0') \n",
        "    i += 1\n",
        "\n",
        "  return avg_word_len"
      ],
      "metadata": {
        "id": "PemMedBO1EVD"
      },
      "execution_count": null,
      "outputs": []
    },
    {
      "cell_type": "markdown",
      "source": [
        "### **CREATE THE OUTPUT FOLDER**"
      ],
      "metadata": {
        "id": "pZ1a4QtVQiuC"
      }
    },
    {
      "cell_type": "code",
      "source": [
        "def create_output_directory():\n",
        "  if not os.path.exists(\"Output\"):\n",
        "      os.makedirs(\"Output\")"
      ],
      "metadata": {
        "id": "paqbF1wnQhgv"
      },
      "execution_count": null,
      "outputs": []
    },
    {
      "cell_type": "code",
      "source": [
        "output_frame = pd.DataFrame(columns = ['URL_ID', 'URL', 'POSITIVE SCORE',\n",
        "                                       'NEGATIVE SCORE','POLARITY SCORE',\n",
        "                                       'SUBJECTIVITY SCORE','AVG SENTENCE LENGTH','PERCENTAGE OF COMPLEX WORDS',\n",
        "                                       'FOG INDEX','AVG NUMBER OF WORDS PER SENTENCE','COMPLEX WORD COUNT',\n",
        "                                       'WORD COUNT','SYLLABLE PER WORD','PERSONAL PRONOUNS','AVG WORD LENGTH'])"
      ],
      "metadata": {
        "id": "-orndJ9FRabn"
      },
      "execution_count": null,
      "outputs": []
    },
    {
      "cell_type": "code",
      "source": [
        "output_frame"
      ],
      "metadata": {
        "colab": {
          "base_uri": "https://localhost:8080/",
          "height": 183
        },
        "id": "kQmWhOXg9tFA",
        "outputId": "017e50a9-09c0-4e47-9393-dedab4ddaf6a"
      },
      "execution_count": null,
      "outputs": [
        {
          "output_type": "execute_result",
          "data": {
            "text/plain": [
              "Empty DataFrame\n",
              "Columns: [URL_ID, URL, POSITIVE SCORE, NEGATIVE SCORE, POLARITY SCORE, SUBJECTIVITY SCORE, AVG SENTENCE LENGTH, PERCENTAGE OF COMPLEX WORDS, FOG INDEX, AVG NUMBER OF WORDS PER SENTENCE, COMPLEX WORD COUNT, WORD COUNT, SYLLABLE PER WORD, PERSONAL PRONOUNS, AVG WORD LENGTH]\n",
              "Index: []"
            ],
            "text/html": [
              "\n",
              "  <div id=\"df-c669d829-daa3-4d09-9d4e-239301ebaece\">\n",
              "    <div class=\"colab-df-container\">\n",
              "      <div>\n",
              "<style scoped>\n",
              "    .dataframe tbody tr th:only-of-type {\n",
              "        vertical-align: middle;\n",
              "    }\n",
              "\n",
              "    .dataframe tbody tr th {\n",
              "        vertical-align: top;\n",
              "    }\n",
              "\n",
              "    .dataframe thead th {\n",
              "        text-align: right;\n",
              "    }\n",
              "</style>\n",
              "<table border=\"1\" class=\"dataframe\">\n",
              "  <thead>\n",
              "    <tr style=\"text-align: right;\">\n",
              "      <th></th>\n",
              "      <th>URL_ID</th>\n",
              "      <th>URL</th>\n",
              "      <th>POSITIVE SCORE</th>\n",
              "      <th>NEGATIVE SCORE</th>\n",
              "      <th>POLARITY SCORE</th>\n",
              "      <th>SUBJECTIVITY SCORE</th>\n",
              "      <th>AVG SENTENCE LENGTH</th>\n",
              "      <th>PERCENTAGE OF COMPLEX WORDS</th>\n",
              "      <th>FOG INDEX</th>\n",
              "      <th>AVG NUMBER OF WORDS PER SENTENCE</th>\n",
              "      <th>COMPLEX WORD COUNT</th>\n",
              "      <th>WORD COUNT</th>\n",
              "      <th>SYLLABLE PER WORD</th>\n",
              "      <th>PERSONAL PRONOUNS</th>\n",
              "      <th>AVG WORD LENGTH</th>\n",
              "    </tr>\n",
              "  </thead>\n",
              "  <tbody>\n",
              "  </tbody>\n",
              "</table>\n",
              "</div>\n",
              "      <button class=\"colab-df-convert\" onclick=\"convertToInteractive('df-c669d829-daa3-4d09-9d4e-239301ebaece')\"\n",
              "              title=\"Convert this dataframe to an interactive table.\"\n",
              "              style=\"display:none;\">\n",
              "        \n",
              "  <svg xmlns=\"http://www.w3.org/2000/svg\" height=\"24px\"viewBox=\"0 0 24 24\"\n",
              "       width=\"24px\">\n",
              "    <path d=\"M0 0h24v24H0V0z\" fill=\"none\"/>\n",
              "    <path d=\"M18.56 5.44l.94 2.06.94-2.06 2.06-.94-2.06-.94-.94-2.06-.94 2.06-2.06.94zm-11 1L8.5 8.5l.94-2.06 2.06-.94-2.06-.94L8.5 2.5l-.94 2.06-2.06.94zm10 10l.94 2.06.94-2.06 2.06-.94-2.06-.94-.94-2.06-.94 2.06-2.06.94z\"/><path d=\"M17.41 7.96l-1.37-1.37c-.4-.4-.92-.59-1.43-.59-.52 0-1.04.2-1.43.59L10.3 9.45l-7.72 7.72c-.78.78-.78 2.05 0 2.83L4 21.41c.39.39.9.59 1.41.59.51 0 1.02-.2 1.41-.59l7.78-7.78 2.81-2.81c.8-.78.8-2.07 0-2.86zM5.41 20L4 18.59l7.72-7.72 1.47 1.35L5.41 20z\"/>\n",
              "  </svg>\n",
              "      </button>\n",
              "      \n",
              "  <style>\n",
              "    .colab-df-container {\n",
              "      display:flex;\n",
              "      flex-wrap:wrap;\n",
              "      gap: 12px;\n",
              "    }\n",
              "\n",
              "    .colab-df-convert {\n",
              "      background-color: #E8F0FE;\n",
              "      border: none;\n",
              "      border-radius: 50%;\n",
              "      cursor: pointer;\n",
              "      display: none;\n",
              "      fill: #1967D2;\n",
              "      height: 32px;\n",
              "      padding: 0 0 0 0;\n",
              "      width: 32px;\n",
              "    }\n",
              "\n",
              "    .colab-df-convert:hover {\n",
              "      background-color: #E2EBFA;\n",
              "      box-shadow: 0px 1px 2px rgba(60, 64, 67, 0.3), 0px 1px 3px 1px rgba(60, 64, 67, 0.15);\n",
              "      fill: #174EA6;\n",
              "    }\n",
              "\n",
              "    [theme=dark] .colab-df-convert {\n",
              "      background-color: #3B4455;\n",
              "      fill: #D2E3FC;\n",
              "    }\n",
              "\n",
              "    [theme=dark] .colab-df-convert:hover {\n",
              "      background-color: #434B5C;\n",
              "      box-shadow: 0px 1px 3px 1px rgba(0, 0, 0, 0.15);\n",
              "      filter: drop-shadow(0px 1px 2px rgba(0, 0, 0, 0.3));\n",
              "      fill: #FFFFFF;\n",
              "    }\n",
              "  </style>\n",
              "\n",
              "      <script>\n",
              "        const buttonEl =\n",
              "          document.querySelector('#df-c669d829-daa3-4d09-9d4e-239301ebaece button.colab-df-convert');\n",
              "        buttonEl.style.display =\n",
              "          google.colab.kernel.accessAllowed ? 'block' : 'none';\n",
              "\n",
              "        async function convertToInteractive(key) {\n",
              "          const element = document.querySelector('#df-c669d829-daa3-4d09-9d4e-239301ebaece');\n",
              "          const dataTable =\n",
              "            await google.colab.kernel.invokeFunction('convertToInteractive',\n",
              "                                                     [key], {});\n",
              "          if (!dataTable) return;\n",
              "\n",
              "          const docLinkHtml = 'Like what you see? Visit the ' +\n",
              "            '<a target=\"_blank\" href=https://colab.research.google.com/notebooks/data_table.ipynb>data table notebook</a>'\n",
              "            + ' to learn more about interactive tables.';\n",
              "          element.innerHTML = '';\n",
              "          dataTable['output_type'] = 'display_data';\n",
              "          await google.colab.output.renderOutput(dataTable, element);\n",
              "          const docLink = document.createElement('div');\n",
              "          docLink.innerHTML = docLinkHtml;\n",
              "          element.appendChild(docLink);\n",
              "        }\n",
              "      </script>\n",
              "    </div>\n",
              "  </div>\n",
              "  "
            ]
          },
          "metadata": {},
          "execution_count": 54
        }
      ]
    },
    {
      "cell_type": "code",
      "source": [
        "def fill_url_info():\n",
        "  ids = list(data['URL_ID'])\n",
        "  urls = list(data['URL'])\n",
        "  output_frame['URL_ID'] = ids\n",
        "  output_frame['URL'] = urls\n",
        "  return output_frame"
      ],
      "metadata": {
        "id": "eRoMRbi_WCo_"
      },
      "execution_count": null,
      "outputs": []
    },
    {
      "cell_type": "code",
      "source": [
        "fill_url_info()"
      ],
      "metadata": {
        "colab": {
          "base_uri": "https://localhost:8080/",
          "height": 730
        },
        "id": "0XAaNNyYbaUY",
        "outputId": "80ffa602-8f4b-4b0d-ebed-36b648e4bd5c"
      },
      "execution_count": null,
      "outputs": [
        {
          "output_type": "execute_result",
          "data": {
            "text/plain": [
              "     URL_ID                                                URL POSITIVE SCORE  \\\n",
              "0      37.0  https://insights.blackcoffer.com/ai-in-healthc...            NaN   \n",
              "1      38.0  https://insights.blackcoffer.com/what-if-the-c...            NaN   \n",
              "2      39.0  https://insights.blackcoffer.com/what-jobs-wil...            NaN   \n",
              "3      40.0  https://insights.blackcoffer.com/will-machine-...            NaN   \n",
              "4      41.0  https://insights.blackcoffer.com/will-ai-repla...            NaN   \n",
              "..      ...                                                ...            ...   \n",
              "109   146.0  https://insights.blackcoffer.com/blockchain-fo...            NaN   \n",
              "110   147.0  https://insights.blackcoffer.com/the-future-of...            NaN   \n",
              "111   148.0  https://insights.blackcoffer.com/big-data-anal...            NaN   \n",
              "112   149.0  https://insights.blackcoffer.com/business-anal...            NaN   \n",
              "113   150.0  https://insights.blackcoffer.com/challenges-an...            NaN   \n",
              "\n",
              "    NEGATIVE SCORE POLARITY SCORE SUBJECTIVITY SCORE AVG SENTENCE LENGTH  \\\n",
              "0              NaN            NaN                NaN                 NaN   \n",
              "1              NaN            NaN                NaN                 NaN   \n",
              "2              NaN            NaN                NaN                 NaN   \n",
              "3              NaN            NaN                NaN                 NaN   \n",
              "4              NaN            NaN                NaN                 NaN   \n",
              "..             ...            ...                ...                 ...   \n",
              "109            NaN            NaN                NaN                 NaN   \n",
              "110            NaN            NaN                NaN                 NaN   \n",
              "111            NaN            NaN                NaN                 NaN   \n",
              "112            NaN            NaN                NaN                 NaN   \n",
              "113            NaN            NaN                NaN                 NaN   \n",
              "\n",
              "    PERCENTAGE OF COMPLEX WORDS FOG INDEX AVG NUMBER OF WORDS PER SENTENCE  \\\n",
              "0                           NaN       NaN                              NaN   \n",
              "1                           NaN       NaN                              NaN   \n",
              "2                           NaN       NaN                              NaN   \n",
              "3                           NaN       NaN                              NaN   \n",
              "4                           NaN       NaN                              NaN   \n",
              "..                          ...       ...                              ...   \n",
              "109                         NaN       NaN                              NaN   \n",
              "110                         NaN       NaN                              NaN   \n",
              "111                         NaN       NaN                              NaN   \n",
              "112                         NaN       NaN                              NaN   \n",
              "113                         NaN       NaN                              NaN   \n",
              "\n",
              "    COMPLEX WORD COUNT WORD COUNT SYLLABLE PER WORD PERSONAL PRONOUNS  \\\n",
              "0                  NaN        NaN               NaN               NaN   \n",
              "1                  NaN        NaN               NaN               NaN   \n",
              "2                  NaN        NaN               NaN               NaN   \n",
              "3                  NaN        NaN               NaN               NaN   \n",
              "4                  NaN        NaN               NaN               NaN   \n",
              "..                 ...        ...               ...               ...   \n",
              "109                NaN        NaN               NaN               NaN   \n",
              "110                NaN        NaN               NaN               NaN   \n",
              "111                NaN        NaN               NaN               NaN   \n",
              "112                NaN        NaN               NaN               NaN   \n",
              "113                NaN        NaN               NaN               NaN   \n",
              "\n",
              "    AVG WORD LENGTH  \n",
              "0               NaN  \n",
              "1               NaN  \n",
              "2               NaN  \n",
              "3               NaN  \n",
              "4               NaN  \n",
              "..              ...  \n",
              "109             NaN  \n",
              "110             NaN  \n",
              "111             NaN  \n",
              "112             NaN  \n",
              "113             NaN  \n",
              "\n",
              "[114 rows x 15 columns]"
            ],
            "text/html": [
              "\n",
              "  <div id=\"df-69bda721-bf3c-41f3-84b3-06f9c85338a6\">\n",
              "    <div class=\"colab-df-container\">\n",
              "      <div>\n",
              "<style scoped>\n",
              "    .dataframe tbody tr th:only-of-type {\n",
              "        vertical-align: middle;\n",
              "    }\n",
              "\n",
              "    .dataframe tbody tr th {\n",
              "        vertical-align: top;\n",
              "    }\n",
              "\n",
              "    .dataframe thead th {\n",
              "        text-align: right;\n",
              "    }\n",
              "</style>\n",
              "<table border=\"1\" class=\"dataframe\">\n",
              "  <thead>\n",
              "    <tr style=\"text-align: right;\">\n",
              "      <th></th>\n",
              "      <th>URL_ID</th>\n",
              "      <th>URL</th>\n",
              "      <th>POSITIVE SCORE</th>\n",
              "      <th>NEGATIVE SCORE</th>\n",
              "      <th>POLARITY SCORE</th>\n",
              "      <th>SUBJECTIVITY SCORE</th>\n",
              "      <th>AVG SENTENCE LENGTH</th>\n",
              "      <th>PERCENTAGE OF COMPLEX WORDS</th>\n",
              "      <th>FOG INDEX</th>\n",
              "      <th>AVG NUMBER OF WORDS PER SENTENCE</th>\n",
              "      <th>COMPLEX WORD COUNT</th>\n",
              "      <th>WORD COUNT</th>\n",
              "      <th>SYLLABLE PER WORD</th>\n",
              "      <th>PERSONAL PRONOUNS</th>\n",
              "      <th>AVG WORD LENGTH</th>\n",
              "    </tr>\n",
              "  </thead>\n",
              "  <tbody>\n",
              "    <tr>\n",
              "      <th>0</th>\n",
              "      <td>37.0</td>\n",
              "      <td>https://insights.blackcoffer.com/ai-in-healthc...</td>\n",
              "      <td>NaN</td>\n",
              "      <td>NaN</td>\n",
              "      <td>NaN</td>\n",
              "      <td>NaN</td>\n",
              "      <td>NaN</td>\n",
              "      <td>NaN</td>\n",
              "      <td>NaN</td>\n",
              "      <td>NaN</td>\n",
              "      <td>NaN</td>\n",
              "      <td>NaN</td>\n",
              "      <td>NaN</td>\n",
              "      <td>NaN</td>\n",
              "      <td>NaN</td>\n",
              "    </tr>\n",
              "    <tr>\n",
              "      <th>1</th>\n",
              "      <td>38.0</td>\n",
              "      <td>https://insights.blackcoffer.com/what-if-the-c...</td>\n",
              "      <td>NaN</td>\n",
              "      <td>NaN</td>\n",
              "      <td>NaN</td>\n",
              "      <td>NaN</td>\n",
              "      <td>NaN</td>\n",
              "      <td>NaN</td>\n",
              "      <td>NaN</td>\n",
              "      <td>NaN</td>\n",
              "      <td>NaN</td>\n",
              "      <td>NaN</td>\n",
              "      <td>NaN</td>\n",
              "      <td>NaN</td>\n",
              "      <td>NaN</td>\n",
              "    </tr>\n",
              "    <tr>\n",
              "      <th>2</th>\n",
              "      <td>39.0</td>\n",
              "      <td>https://insights.blackcoffer.com/what-jobs-wil...</td>\n",
              "      <td>NaN</td>\n",
              "      <td>NaN</td>\n",
              "      <td>NaN</td>\n",
              "      <td>NaN</td>\n",
              "      <td>NaN</td>\n",
              "      <td>NaN</td>\n",
              "      <td>NaN</td>\n",
              "      <td>NaN</td>\n",
              "      <td>NaN</td>\n",
              "      <td>NaN</td>\n",
              "      <td>NaN</td>\n",
              "      <td>NaN</td>\n",
              "      <td>NaN</td>\n",
              "    </tr>\n",
              "    <tr>\n",
              "      <th>3</th>\n",
              "      <td>40.0</td>\n",
              "      <td>https://insights.blackcoffer.com/will-machine-...</td>\n",
              "      <td>NaN</td>\n",
              "      <td>NaN</td>\n",
              "      <td>NaN</td>\n",
              "      <td>NaN</td>\n",
              "      <td>NaN</td>\n",
              "      <td>NaN</td>\n",
              "      <td>NaN</td>\n",
              "      <td>NaN</td>\n",
              "      <td>NaN</td>\n",
              "      <td>NaN</td>\n",
              "      <td>NaN</td>\n",
              "      <td>NaN</td>\n",
              "      <td>NaN</td>\n",
              "    </tr>\n",
              "    <tr>\n",
              "      <th>4</th>\n",
              "      <td>41.0</td>\n",
              "      <td>https://insights.blackcoffer.com/will-ai-repla...</td>\n",
              "      <td>NaN</td>\n",
              "      <td>NaN</td>\n",
              "      <td>NaN</td>\n",
              "      <td>NaN</td>\n",
              "      <td>NaN</td>\n",
              "      <td>NaN</td>\n",
              "      <td>NaN</td>\n",
              "      <td>NaN</td>\n",
              "      <td>NaN</td>\n",
              "      <td>NaN</td>\n",
              "      <td>NaN</td>\n",
              "      <td>NaN</td>\n",
              "      <td>NaN</td>\n",
              "    </tr>\n",
              "    <tr>\n",
              "      <th>...</th>\n",
              "      <td>...</td>\n",
              "      <td>...</td>\n",
              "      <td>...</td>\n",
              "      <td>...</td>\n",
              "      <td>...</td>\n",
              "      <td>...</td>\n",
              "      <td>...</td>\n",
              "      <td>...</td>\n",
              "      <td>...</td>\n",
              "      <td>...</td>\n",
              "      <td>...</td>\n",
              "      <td>...</td>\n",
              "      <td>...</td>\n",
              "      <td>...</td>\n",
              "      <td>...</td>\n",
              "    </tr>\n",
              "    <tr>\n",
              "      <th>109</th>\n",
              "      <td>146.0</td>\n",
              "      <td>https://insights.blackcoffer.com/blockchain-fo...</td>\n",
              "      <td>NaN</td>\n",
              "      <td>NaN</td>\n",
              "      <td>NaN</td>\n",
              "      <td>NaN</td>\n",
              "      <td>NaN</td>\n",
              "      <td>NaN</td>\n",
              "      <td>NaN</td>\n",
              "      <td>NaN</td>\n",
              "      <td>NaN</td>\n",
              "      <td>NaN</td>\n",
              "      <td>NaN</td>\n",
              "      <td>NaN</td>\n",
              "      <td>NaN</td>\n",
              "    </tr>\n",
              "    <tr>\n",
              "      <th>110</th>\n",
              "      <td>147.0</td>\n",
              "      <td>https://insights.blackcoffer.com/the-future-of...</td>\n",
              "      <td>NaN</td>\n",
              "      <td>NaN</td>\n",
              "      <td>NaN</td>\n",
              "      <td>NaN</td>\n",
              "      <td>NaN</td>\n",
              "      <td>NaN</td>\n",
              "      <td>NaN</td>\n",
              "      <td>NaN</td>\n",
              "      <td>NaN</td>\n",
              "      <td>NaN</td>\n",
              "      <td>NaN</td>\n",
              "      <td>NaN</td>\n",
              "      <td>NaN</td>\n",
              "    </tr>\n",
              "    <tr>\n",
              "      <th>111</th>\n",
              "      <td>148.0</td>\n",
              "      <td>https://insights.blackcoffer.com/big-data-anal...</td>\n",
              "      <td>NaN</td>\n",
              "      <td>NaN</td>\n",
              "      <td>NaN</td>\n",
              "      <td>NaN</td>\n",
              "      <td>NaN</td>\n",
              "      <td>NaN</td>\n",
              "      <td>NaN</td>\n",
              "      <td>NaN</td>\n",
              "      <td>NaN</td>\n",
              "      <td>NaN</td>\n",
              "      <td>NaN</td>\n",
              "      <td>NaN</td>\n",
              "      <td>NaN</td>\n",
              "    </tr>\n",
              "    <tr>\n",
              "      <th>112</th>\n",
              "      <td>149.0</td>\n",
              "      <td>https://insights.blackcoffer.com/business-anal...</td>\n",
              "      <td>NaN</td>\n",
              "      <td>NaN</td>\n",
              "      <td>NaN</td>\n",
              "      <td>NaN</td>\n",
              "      <td>NaN</td>\n",
              "      <td>NaN</td>\n",
              "      <td>NaN</td>\n",
              "      <td>NaN</td>\n",
              "      <td>NaN</td>\n",
              "      <td>NaN</td>\n",
              "      <td>NaN</td>\n",
              "      <td>NaN</td>\n",
              "      <td>NaN</td>\n",
              "    </tr>\n",
              "    <tr>\n",
              "      <th>113</th>\n",
              "      <td>150.0</td>\n",
              "      <td>https://insights.blackcoffer.com/challenges-an...</td>\n",
              "      <td>NaN</td>\n",
              "      <td>NaN</td>\n",
              "      <td>NaN</td>\n",
              "      <td>NaN</td>\n",
              "      <td>NaN</td>\n",
              "      <td>NaN</td>\n",
              "      <td>NaN</td>\n",
              "      <td>NaN</td>\n",
              "      <td>NaN</td>\n",
              "      <td>NaN</td>\n",
              "      <td>NaN</td>\n",
              "      <td>NaN</td>\n",
              "      <td>NaN</td>\n",
              "    </tr>\n",
              "  </tbody>\n",
              "</table>\n",
              "<p>114 rows × 15 columns</p>\n",
              "</div>\n",
              "      <button class=\"colab-df-convert\" onclick=\"convertToInteractive('df-69bda721-bf3c-41f3-84b3-06f9c85338a6')\"\n",
              "              title=\"Convert this dataframe to an interactive table.\"\n",
              "              style=\"display:none;\">\n",
              "        \n",
              "  <svg xmlns=\"http://www.w3.org/2000/svg\" height=\"24px\"viewBox=\"0 0 24 24\"\n",
              "       width=\"24px\">\n",
              "    <path d=\"M0 0h24v24H0V0z\" fill=\"none\"/>\n",
              "    <path d=\"M18.56 5.44l.94 2.06.94-2.06 2.06-.94-2.06-.94-.94-2.06-.94 2.06-2.06.94zm-11 1L8.5 8.5l.94-2.06 2.06-.94-2.06-.94L8.5 2.5l-.94 2.06-2.06.94zm10 10l.94 2.06.94-2.06 2.06-.94-2.06-.94-.94-2.06-.94 2.06-2.06.94z\"/><path d=\"M17.41 7.96l-1.37-1.37c-.4-.4-.92-.59-1.43-.59-.52 0-1.04.2-1.43.59L10.3 9.45l-7.72 7.72c-.78.78-.78 2.05 0 2.83L4 21.41c.39.39.9.59 1.41.59.51 0 1.02-.2 1.41-.59l7.78-7.78 2.81-2.81c.8-.78.8-2.07 0-2.86zM5.41 20L4 18.59l7.72-7.72 1.47 1.35L5.41 20z\"/>\n",
              "  </svg>\n",
              "      </button>\n",
              "      \n",
              "  <style>\n",
              "    .colab-df-container {\n",
              "      display:flex;\n",
              "      flex-wrap:wrap;\n",
              "      gap: 12px;\n",
              "    }\n",
              "\n",
              "    .colab-df-convert {\n",
              "      background-color: #E8F0FE;\n",
              "      border: none;\n",
              "      border-radius: 50%;\n",
              "      cursor: pointer;\n",
              "      display: none;\n",
              "      fill: #1967D2;\n",
              "      height: 32px;\n",
              "      padding: 0 0 0 0;\n",
              "      width: 32px;\n",
              "    }\n",
              "\n",
              "    .colab-df-convert:hover {\n",
              "      background-color: #E2EBFA;\n",
              "      box-shadow: 0px 1px 2px rgba(60, 64, 67, 0.3), 0px 1px 3px 1px rgba(60, 64, 67, 0.15);\n",
              "      fill: #174EA6;\n",
              "    }\n",
              "\n",
              "    [theme=dark] .colab-df-convert {\n",
              "      background-color: #3B4455;\n",
              "      fill: #D2E3FC;\n",
              "    }\n",
              "\n",
              "    [theme=dark] .colab-df-convert:hover {\n",
              "      background-color: #434B5C;\n",
              "      box-shadow: 0px 1px 3px 1px rgba(0, 0, 0, 0.15);\n",
              "      filter: drop-shadow(0px 1px 2px rgba(0, 0, 0, 0.3));\n",
              "      fill: #FFFFFF;\n",
              "    }\n",
              "  </style>\n",
              "\n",
              "      <script>\n",
              "        const buttonEl =\n",
              "          document.querySelector('#df-69bda721-bf3c-41f3-84b3-06f9c85338a6 button.colab-df-convert');\n",
              "        buttonEl.style.display =\n",
              "          google.colab.kernel.accessAllowed ? 'block' : 'none';\n",
              "\n",
              "        async function convertToInteractive(key) {\n",
              "          const element = document.querySelector('#df-69bda721-bf3c-41f3-84b3-06f9c85338a6');\n",
              "          const dataTable =\n",
              "            await google.colab.kernel.invokeFunction('convertToInteractive',\n",
              "                                                     [key], {});\n",
              "          if (!dataTable) return;\n",
              "\n",
              "          const docLinkHtml = 'Like what you see? Visit the ' +\n",
              "            '<a target=\"_blank\" href=https://colab.research.google.com/notebooks/data_table.ipynb>data table notebook</a>'\n",
              "            + ' to learn more about interactive tables.';\n",
              "          element.innerHTML = '';\n",
              "          dataTable['output_type'] = 'display_data';\n",
              "          await google.colab.output.renderOutput(dataTable, element);\n",
              "          const docLink = document.createElement('div');\n",
              "          docLink.innerHTML = docLinkHtml;\n",
              "          element.appendChild(docLink);\n",
              "        }\n",
              "      </script>\n",
              "    </div>\n",
              "  </div>\n",
              "  "
            ]
          },
          "metadata": {},
          "execution_count": 56
        }
      ]
    },
    {
      "cell_type": "code",
      "source": [
        "def fill_score():\n",
        "  contents = get_contents()\n",
        "  l1=get_positive_score(contents)\n",
        "  output_frame['POSITIVE SCORE'] = l1\n",
        "  l2 =get_negative_score(contents)\n",
        "  output_frame['NEGATIVE SCORE'] = l2\n",
        "  output_frame['POLARITY SCORE'] = polarity(l1,l2)\n",
        "  w = number_of_words(contents)\n",
        "  s = num_sentences()\n",
        "  output_frame['WORD COUNT'] = w\n",
        "  output_frame['SUBJECTIVITY SCORE'] = subjectivity(l1,l2,w)\n",
        "  output_frame['SYLLABLE PER WORD']= syllable_per_word(contents,w)\n",
        "  output_frame['AVG WORD LENGTH'] = avg_word_length(contents, w)\n",
        "  output_frame['AVG SENTENCE LENGTH'] = avg_sentence_length(w,s)\n",
        "  output_frame['AVG NUMBER OF WORDS PER SENTENCE'] = output_frame['WORD COUNT']/s\n",
        "\n",
        "\n",
        "\n"
      ],
      "metadata": {
        "id": "oKDkgu-wbdLn"
      },
      "execution_count": null,
      "outputs": []
    },
    {
      "cell_type": "code",
      "source": [
        "fill_score()"
      ],
      "metadata": {
        "id": "ZX-vAwQOq8Bl"
      },
      "execution_count": null,
      "outputs": []
    },
    {
      "cell_type": "code",
      "source": [
        "output_frame"
      ],
      "metadata": {
        "colab": {
          "base_uri": "https://localhost:8080/",
          "height": 730
        },
        "id": "WTszJmhUrAm5",
        "outputId": "7665e196-0a2a-43ef-d649-22578b7c32e7"
      },
      "execution_count": null,
      "outputs": [
        {
          "output_type": "execute_result",
          "data": {
            "text/plain": [
              "     URL_ID                                                URL  \\\n",
              "0      37.0  https://insights.blackcoffer.com/ai-in-healthc...   \n",
              "1      38.0  https://insights.blackcoffer.com/what-if-the-c...   \n",
              "2      39.0  https://insights.blackcoffer.com/what-jobs-wil...   \n",
              "3      40.0  https://insights.blackcoffer.com/will-machine-...   \n",
              "4      41.0  https://insights.blackcoffer.com/will-ai-repla...   \n",
              "..      ...                                                ...   \n",
              "109   146.0  https://insights.blackcoffer.com/blockchain-fo...   \n",
              "110   147.0  https://insights.blackcoffer.com/the-future-of...   \n",
              "111   148.0  https://insights.blackcoffer.com/big-data-anal...   \n",
              "112   149.0  https://insights.blackcoffer.com/business-anal...   \n",
              "113   150.0  https://insights.blackcoffer.com/challenges-an...   \n",
              "\n",
              "     POSITIVE SCORE  NEGATIVE SCORE  POLARITY SCORE  SUBJECTIVITY SCORE  \\\n",
              "0                44              27        0.239437            0.068401   \n",
              "1                39              28        0.164179            0.110561   \n",
              "2                48              25        0.315068            0.084983   \n",
              "3                35              22        0.228070            0.082729   \n",
              "4                37              22        0.254237            0.071429   \n",
              "..              ...             ...             ...                 ...   \n",
              "109              19              26       -0.155556            0.093946   \n",
              "110              21              11        0.312500            0.054701   \n",
              "111              18              28       -0.217391            0.078365   \n",
              "112              19               5        0.583333            0.083624   \n",
              "113              22              35       -0.228070            0.112871   \n",
              "\n",
              "     AVG SENTENCE LENGTH PERCENTAGE OF COMPLEX WORDS FOG INDEX  \\\n",
              "0              20.352941                         NaN       NaN   \n",
              "1              10.821429                         NaN       NaN   \n",
              "2              13.215385                         NaN       NaN   \n",
              "3              10.439394                         NaN       NaN   \n",
              "4              16.520000                         NaN       NaN   \n",
              "..                   ...                         ...       ...   \n",
              "109            11.975000                         NaN       NaN   \n",
              "110            15.394737                         NaN       NaN   \n",
              "111             9.467742                         NaN       NaN   \n",
              "112            17.937500                         NaN       NaN   \n",
              "113             8.278689                         NaN       NaN   \n",
              "\n",
              "     AVG NUMBER OF WORDS PER SENTENCE COMPLEX WORD COUNT  WORD COUNT  \\\n",
              "0                           20.352941                NaN        1038   \n",
              "1                           10.821429                NaN         606   \n",
              "2                           13.215385                NaN         859   \n",
              "3                           10.439394                NaN         689   \n",
              "4                           16.520000                NaN         826   \n",
              "..                                ...                ...         ...   \n",
              "109                         11.975000                NaN         479   \n",
              "110                         15.394737                NaN         585   \n",
              "111                          9.467742                NaN         587   \n",
              "112                         17.937500                NaN         287   \n",
              "113                          8.278689                NaN         505   \n",
              "\n",
              "    SYLLABLE PER WORD PERSONAL PRONOUNS AVG WORD LENGTH  \n",
              "0            2.805395               NaN        7.319846  \n",
              "1            2.608911               NaN        6.747525  \n",
              "2            2.927823               NaN        7.536671  \n",
              "3            2.615385               NaN        6.732946  \n",
              "4            2.544794               NaN        6.881356  \n",
              "..                ...               ...             ...  \n",
              "109          2.519833               NaN         7.08977  \n",
              "110          2.584615               NaN        6.878632  \n",
              "111          2.638842               NaN         6.88075  \n",
              "112          2.937282               NaN        7.867596  \n",
              "113           2.70495               NaN        7.055446  \n",
              "\n",
              "[114 rows x 15 columns]"
            ],
            "text/html": [
              "\n",
              "  <div id=\"df-9f99e5dc-434b-4926-b65a-3b5621ae62ed\">\n",
              "    <div class=\"colab-df-container\">\n",
              "      <div>\n",
              "<style scoped>\n",
              "    .dataframe tbody tr th:only-of-type {\n",
              "        vertical-align: middle;\n",
              "    }\n",
              "\n",
              "    .dataframe tbody tr th {\n",
              "        vertical-align: top;\n",
              "    }\n",
              "\n",
              "    .dataframe thead th {\n",
              "        text-align: right;\n",
              "    }\n",
              "</style>\n",
              "<table border=\"1\" class=\"dataframe\">\n",
              "  <thead>\n",
              "    <tr style=\"text-align: right;\">\n",
              "      <th></th>\n",
              "      <th>URL_ID</th>\n",
              "      <th>URL</th>\n",
              "      <th>POSITIVE SCORE</th>\n",
              "      <th>NEGATIVE SCORE</th>\n",
              "      <th>POLARITY SCORE</th>\n",
              "      <th>SUBJECTIVITY SCORE</th>\n",
              "      <th>AVG SENTENCE LENGTH</th>\n",
              "      <th>PERCENTAGE OF COMPLEX WORDS</th>\n",
              "      <th>FOG INDEX</th>\n",
              "      <th>AVG NUMBER OF WORDS PER SENTENCE</th>\n",
              "      <th>COMPLEX WORD COUNT</th>\n",
              "      <th>WORD COUNT</th>\n",
              "      <th>SYLLABLE PER WORD</th>\n",
              "      <th>PERSONAL PRONOUNS</th>\n",
              "      <th>AVG WORD LENGTH</th>\n",
              "    </tr>\n",
              "  </thead>\n",
              "  <tbody>\n",
              "    <tr>\n",
              "      <th>0</th>\n",
              "      <td>37.0</td>\n",
              "      <td>https://insights.blackcoffer.com/ai-in-healthc...</td>\n",
              "      <td>44</td>\n",
              "      <td>27</td>\n",
              "      <td>0.239437</td>\n",
              "      <td>0.068401</td>\n",
              "      <td>20.352941</td>\n",
              "      <td>NaN</td>\n",
              "      <td>NaN</td>\n",
              "      <td>20.352941</td>\n",
              "      <td>NaN</td>\n",
              "      <td>1038</td>\n",
              "      <td>2.805395</td>\n",
              "      <td>NaN</td>\n",
              "      <td>7.319846</td>\n",
              "    </tr>\n",
              "    <tr>\n",
              "      <th>1</th>\n",
              "      <td>38.0</td>\n",
              "      <td>https://insights.blackcoffer.com/what-if-the-c...</td>\n",
              "      <td>39</td>\n",
              "      <td>28</td>\n",
              "      <td>0.164179</td>\n",
              "      <td>0.110561</td>\n",
              "      <td>10.821429</td>\n",
              "      <td>NaN</td>\n",
              "      <td>NaN</td>\n",
              "      <td>10.821429</td>\n",
              "      <td>NaN</td>\n",
              "      <td>606</td>\n",
              "      <td>2.608911</td>\n",
              "      <td>NaN</td>\n",
              "      <td>6.747525</td>\n",
              "    </tr>\n",
              "    <tr>\n",
              "      <th>2</th>\n",
              "      <td>39.0</td>\n",
              "      <td>https://insights.blackcoffer.com/what-jobs-wil...</td>\n",
              "      <td>48</td>\n",
              "      <td>25</td>\n",
              "      <td>0.315068</td>\n",
              "      <td>0.084983</td>\n",
              "      <td>13.215385</td>\n",
              "      <td>NaN</td>\n",
              "      <td>NaN</td>\n",
              "      <td>13.215385</td>\n",
              "      <td>NaN</td>\n",
              "      <td>859</td>\n",
              "      <td>2.927823</td>\n",
              "      <td>NaN</td>\n",
              "      <td>7.536671</td>\n",
              "    </tr>\n",
              "    <tr>\n",
              "      <th>3</th>\n",
              "      <td>40.0</td>\n",
              "      <td>https://insights.blackcoffer.com/will-machine-...</td>\n",
              "      <td>35</td>\n",
              "      <td>22</td>\n",
              "      <td>0.228070</td>\n",
              "      <td>0.082729</td>\n",
              "      <td>10.439394</td>\n",
              "      <td>NaN</td>\n",
              "      <td>NaN</td>\n",
              "      <td>10.439394</td>\n",
              "      <td>NaN</td>\n",
              "      <td>689</td>\n",
              "      <td>2.615385</td>\n",
              "      <td>NaN</td>\n",
              "      <td>6.732946</td>\n",
              "    </tr>\n",
              "    <tr>\n",
              "      <th>4</th>\n",
              "      <td>41.0</td>\n",
              "      <td>https://insights.blackcoffer.com/will-ai-repla...</td>\n",
              "      <td>37</td>\n",
              "      <td>22</td>\n",
              "      <td>0.254237</td>\n",
              "      <td>0.071429</td>\n",
              "      <td>16.520000</td>\n",
              "      <td>NaN</td>\n",
              "      <td>NaN</td>\n",
              "      <td>16.520000</td>\n",
              "      <td>NaN</td>\n",
              "      <td>826</td>\n",
              "      <td>2.544794</td>\n",
              "      <td>NaN</td>\n",
              "      <td>6.881356</td>\n",
              "    </tr>\n",
              "    <tr>\n",
              "      <th>...</th>\n",
              "      <td>...</td>\n",
              "      <td>...</td>\n",
              "      <td>...</td>\n",
              "      <td>...</td>\n",
              "      <td>...</td>\n",
              "      <td>...</td>\n",
              "      <td>...</td>\n",
              "      <td>...</td>\n",
              "      <td>...</td>\n",
              "      <td>...</td>\n",
              "      <td>...</td>\n",
              "      <td>...</td>\n",
              "      <td>...</td>\n",
              "      <td>...</td>\n",
              "      <td>...</td>\n",
              "    </tr>\n",
              "    <tr>\n",
              "      <th>109</th>\n",
              "      <td>146.0</td>\n",
              "      <td>https://insights.blackcoffer.com/blockchain-fo...</td>\n",
              "      <td>19</td>\n",
              "      <td>26</td>\n",
              "      <td>-0.155556</td>\n",
              "      <td>0.093946</td>\n",
              "      <td>11.975000</td>\n",
              "      <td>NaN</td>\n",
              "      <td>NaN</td>\n",
              "      <td>11.975000</td>\n",
              "      <td>NaN</td>\n",
              "      <td>479</td>\n",
              "      <td>2.519833</td>\n",
              "      <td>NaN</td>\n",
              "      <td>7.08977</td>\n",
              "    </tr>\n",
              "    <tr>\n",
              "      <th>110</th>\n",
              "      <td>147.0</td>\n",
              "      <td>https://insights.blackcoffer.com/the-future-of...</td>\n",
              "      <td>21</td>\n",
              "      <td>11</td>\n",
              "      <td>0.312500</td>\n",
              "      <td>0.054701</td>\n",
              "      <td>15.394737</td>\n",
              "      <td>NaN</td>\n",
              "      <td>NaN</td>\n",
              "      <td>15.394737</td>\n",
              "      <td>NaN</td>\n",
              "      <td>585</td>\n",
              "      <td>2.584615</td>\n",
              "      <td>NaN</td>\n",
              "      <td>6.878632</td>\n",
              "    </tr>\n",
              "    <tr>\n",
              "      <th>111</th>\n",
              "      <td>148.0</td>\n",
              "      <td>https://insights.blackcoffer.com/big-data-anal...</td>\n",
              "      <td>18</td>\n",
              "      <td>28</td>\n",
              "      <td>-0.217391</td>\n",
              "      <td>0.078365</td>\n",
              "      <td>9.467742</td>\n",
              "      <td>NaN</td>\n",
              "      <td>NaN</td>\n",
              "      <td>9.467742</td>\n",
              "      <td>NaN</td>\n",
              "      <td>587</td>\n",
              "      <td>2.638842</td>\n",
              "      <td>NaN</td>\n",
              "      <td>6.88075</td>\n",
              "    </tr>\n",
              "    <tr>\n",
              "      <th>112</th>\n",
              "      <td>149.0</td>\n",
              "      <td>https://insights.blackcoffer.com/business-anal...</td>\n",
              "      <td>19</td>\n",
              "      <td>5</td>\n",
              "      <td>0.583333</td>\n",
              "      <td>0.083624</td>\n",
              "      <td>17.937500</td>\n",
              "      <td>NaN</td>\n",
              "      <td>NaN</td>\n",
              "      <td>17.937500</td>\n",
              "      <td>NaN</td>\n",
              "      <td>287</td>\n",
              "      <td>2.937282</td>\n",
              "      <td>NaN</td>\n",
              "      <td>7.867596</td>\n",
              "    </tr>\n",
              "    <tr>\n",
              "      <th>113</th>\n",
              "      <td>150.0</td>\n",
              "      <td>https://insights.blackcoffer.com/challenges-an...</td>\n",
              "      <td>22</td>\n",
              "      <td>35</td>\n",
              "      <td>-0.228070</td>\n",
              "      <td>0.112871</td>\n",
              "      <td>8.278689</td>\n",
              "      <td>NaN</td>\n",
              "      <td>NaN</td>\n",
              "      <td>8.278689</td>\n",
              "      <td>NaN</td>\n",
              "      <td>505</td>\n",
              "      <td>2.70495</td>\n",
              "      <td>NaN</td>\n",
              "      <td>7.055446</td>\n",
              "    </tr>\n",
              "  </tbody>\n",
              "</table>\n",
              "<p>114 rows × 15 columns</p>\n",
              "</div>\n",
              "      <button class=\"colab-df-convert\" onclick=\"convertToInteractive('df-9f99e5dc-434b-4926-b65a-3b5621ae62ed')\"\n",
              "              title=\"Convert this dataframe to an interactive table.\"\n",
              "              style=\"display:none;\">\n",
              "        \n",
              "  <svg xmlns=\"http://www.w3.org/2000/svg\" height=\"24px\"viewBox=\"0 0 24 24\"\n",
              "       width=\"24px\">\n",
              "    <path d=\"M0 0h24v24H0V0z\" fill=\"none\"/>\n",
              "    <path d=\"M18.56 5.44l.94 2.06.94-2.06 2.06-.94-2.06-.94-.94-2.06-.94 2.06-2.06.94zm-11 1L8.5 8.5l.94-2.06 2.06-.94-2.06-.94L8.5 2.5l-.94 2.06-2.06.94zm10 10l.94 2.06.94-2.06 2.06-.94-2.06-.94-.94-2.06-.94 2.06-2.06.94z\"/><path d=\"M17.41 7.96l-1.37-1.37c-.4-.4-.92-.59-1.43-.59-.52 0-1.04.2-1.43.59L10.3 9.45l-7.72 7.72c-.78.78-.78 2.05 0 2.83L4 21.41c.39.39.9.59 1.41.59.51 0 1.02-.2 1.41-.59l7.78-7.78 2.81-2.81c.8-.78.8-2.07 0-2.86zM5.41 20L4 18.59l7.72-7.72 1.47 1.35L5.41 20z\"/>\n",
              "  </svg>\n",
              "      </button>\n",
              "      \n",
              "  <style>\n",
              "    .colab-df-container {\n",
              "      display:flex;\n",
              "      flex-wrap:wrap;\n",
              "      gap: 12px;\n",
              "    }\n",
              "\n",
              "    .colab-df-convert {\n",
              "      background-color: #E8F0FE;\n",
              "      border: none;\n",
              "      border-radius: 50%;\n",
              "      cursor: pointer;\n",
              "      display: none;\n",
              "      fill: #1967D2;\n",
              "      height: 32px;\n",
              "      padding: 0 0 0 0;\n",
              "      width: 32px;\n",
              "    }\n",
              "\n",
              "    .colab-df-convert:hover {\n",
              "      background-color: #E2EBFA;\n",
              "      box-shadow: 0px 1px 2px rgba(60, 64, 67, 0.3), 0px 1px 3px 1px rgba(60, 64, 67, 0.15);\n",
              "      fill: #174EA6;\n",
              "    }\n",
              "\n",
              "    [theme=dark] .colab-df-convert {\n",
              "      background-color: #3B4455;\n",
              "      fill: #D2E3FC;\n",
              "    }\n",
              "\n",
              "    [theme=dark] .colab-df-convert:hover {\n",
              "      background-color: #434B5C;\n",
              "      box-shadow: 0px 1px 3px 1px rgba(0, 0, 0, 0.15);\n",
              "      filter: drop-shadow(0px 1px 2px rgba(0, 0, 0, 0.3));\n",
              "      fill: #FFFFFF;\n",
              "    }\n",
              "  </style>\n",
              "\n",
              "      <script>\n",
              "        const buttonEl =\n",
              "          document.querySelector('#df-9f99e5dc-434b-4926-b65a-3b5621ae62ed button.colab-df-convert');\n",
              "        buttonEl.style.display =\n",
              "          google.colab.kernel.accessAllowed ? 'block' : 'none';\n",
              "\n",
              "        async function convertToInteractive(key) {\n",
              "          const element = document.querySelector('#df-9f99e5dc-434b-4926-b65a-3b5621ae62ed');\n",
              "          const dataTable =\n",
              "            await google.colab.kernel.invokeFunction('convertToInteractive',\n",
              "                                                     [key], {});\n",
              "          if (!dataTable) return;\n",
              "\n",
              "          const docLinkHtml = 'Like what you see? Visit the ' +\n",
              "            '<a target=\"_blank\" href=https://colab.research.google.com/notebooks/data_table.ipynb>data table notebook</a>'\n",
              "            + ' to learn more about interactive tables.';\n",
              "          element.innerHTML = '';\n",
              "          dataTable['output_type'] = 'display_data';\n",
              "          await google.colab.output.renderOutput(dataTable, element);\n",
              "          const docLink = document.createElement('div');\n",
              "          docLink.innerHTML = docLinkHtml;\n",
              "          element.appendChild(docLink);\n",
              "        }\n",
              "      </script>\n",
              "    </div>\n",
              "  </div>\n",
              "  "
            ]
          },
          "metadata": {},
          "execution_count": 65
        }
      ]
    },
    {
      "cell_type": "code",
      "source": [
        "def fill_complex_scores():\n",
        "  contents = get_contents()\n",
        "  w = number_of_words(contents)\n",
        "  c = list(count_complex_words(contents).values())\n",
        "  pc = complex_percentage(c,w)\n",
        "  output_frame['COMPLEX WORD COUNT'] = c\n",
        "  output_frame['PERCENTAGE OF COMPLEX WORDS'] = complex_percentage(c,w)\n",
        "  output_frame['FOG INDEX'] = fog_index(output_frame['AVG SENTENCE LENGTH'],pc)\n",
        "  output_frame['PERSONAL PRONOUNS'] =personal_pronouns()\n",
        "  \n"
      ],
      "metadata": {
        "id": "VhQmvPK0s0hf"
      },
      "execution_count": null,
      "outputs": []
    },
    {
      "cell_type": "code",
      "source": [
        "fill_complex_scores()"
      ],
      "metadata": {
        "id": "sRSQOCjN4Dan"
      },
      "execution_count": null,
      "outputs": []
    },
    {
      "cell_type": "code",
      "source": [
        "type(contents.values())"
      ],
      "metadata": {
        "colab": {
          "base_uri": "https://localhost:8080/"
        },
        "id": "1Gw0FhsW4HDz",
        "outputId": "470f5ff4-a8b1-4aa5-d4ea-84412e949d8e"
      },
      "execution_count": null,
      "outputs": [
        {
          "output_type": "execute_result",
          "data": {
            "text/plain": [
              "dict_values"
            ]
          },
          "metadata": {},
          "execution_count": 73
        }
      ]
    },
    {
      "cell_type": "code",
      "source": [
        "output_frame"
      ],
      "metadata": {
        "colab": {
          "base_uri": "https://localhost:8080/",
          "height": 730
        },
        "id": "r51EGce6AhMm",
        "outputId": "30c4c1a4-ae39-41bc-c455-195eb9f4f50e"
      },
      "execution_count": null,
      "outputs": [
        {
          "output_type": "execute_result",
          "data": {
            "text/plain": [
              "     URL_ID                                                URL  \\\n",
              "0      37.0  https://insights.blackcoffer.com/ai-in-healthc...   \n",
              "1      38.0  https://insights.blackcoffer.com/what-if-the-c...   \n",
              "2      39.0  https://insights.blackcoffer.com/what-jobs-wil...   \n",
              "3      40.0  https://insights.blackcoffer.com/will-machine-...   \n",
              "4      41.0  https://insights.blackcoffer.com/will-ai-repla...   \n",
              "..      ...                                                ...   \n",
              "109   146.0  https://insights.blackcoffer.com/blockchain-fo...   \n",
              "110   147.0  https://insights.blackcoffer.com/the-future-of...   \n",
              "111   148.0  https://insights.blackcoffer.com/big-data-anal...   \n",
              "112   149.0  https://insights.blackcoffer.com/business-anal...   \n",
              "113   150.0  https://insights.blackcoffer.com/challenges-an...   \n",
              "\n",
              "     POSITIVE SCORE  NEGATIVE SCORE  POLARITY SCORE  SUBJECTIVITY SCORE  \\\n",
              "0                44              27        0.239437            0.068401   \n",
              "1                39              28        0.164179            0.110561   \n",
              "2                48              25        0.315068            0.084983   \n",
              "3                35              22        0.228070            0.082729   \n",
              "4                37              22        0.254237            0.071429   \n",
              "..              ...             ...             ...                 ...   \n",
              "109              19              26       -0.155556            0.093946   \n",
              "110              21              11        0.312500            0.054701   \n",
              "111              18              28       -0.217391            0.078365   \n",
              "112              19               5        0.583333            0.083624   \n",
              "113              22              35       -0.228070            0.112871   \n",
              "\n",
              "     AVG SENTENCE LENGTH  PERCENTAGE OF COMPLEX WORDS  FOG INDEX  \\\n",
              "0              20.352941                    57.225434  31.031350   \n",
              "1              10.821429                    47.359736  23.272466   \n",
              "2              13.215385                    60.884750  29.640054   \n",
              "3              10.439394                    46.734398  22.869517   \n",
              "4              16.520000                    47.820823  25.736329   \n",
              "..                   ...                          ...        ...   \n",
              "109            11.975000                    43.215031  22.076013   \n",
              "110            15.394737                    49.401709  25.918578   \n",
              "111             9.467742                    55.025554  25.797318   \n",
              "112            17.937500                    60.278746  31.286498   \n",
              "113             8.278689                    50.099010  23.351079   \n",
              "\n",
              "     AVG NUMBER OF WORDS PER SENTENCE  COMPLEX WORD COUNT  WORD COUNT  \\\n",
              "0                           20.352941                 594        1038   \n",
              "1                           10.821429                 287         606   \n",
              "2                           13.215385                 523         859   \n",
              "3                           10.439394                 322         689   \n",
              "4                           16.520000                 395         826   \n",
              "..                                ...                 ...         ...   \n",
              "109                         11.975000                 207         479   \n",
              "110                         15.394737                 289         585   \n",
              "111                          9.467742                 323         587   \n",
              "112                         17.937500                 173         287   \n",
              "113                          8.278689                 253         505   \n",
              "\n",
              "    SYLLABLE PER WORD  PERSONAL PRONOUNS AVG WORD LENGTH  \n",
              "0            2.805395                 21        7.319846  \n",
              "1            2.608911                 33        6.747525  \n",
              "2            2.927823                 20        7.536671  \n",
              "3            2.615385                 49        6.732946  \n",
              "4            2.544794                 46        6.881356  \n",
              "..                ...                ...             ...  \n",
              "109          2.519833                 15         7.08977  \n",
              "110          2.584615                 24        6.878632  \n",
              "111          2.638842                  9         6.88075  \n",
              "112          2.937282                  6        7.867596  \n",
              "113           2.70495                 21        7.055446  \n",
              "\n",
              "[114 rows x 15 columns]"
            ],
            "text/html": [
              "\n",
              "  <div id=\"df-f2d78511-4714-4c4a-9302-0b3b6e4ccb57\">\n",
              "    <div class=\"colab-df-container\">\n",
              "      <div>\n",
              "<style scoped>\n",
              "    .dataframe tbody tr th:only-of-type {\n",
              "        vertical-align: middle;\n",
              "    }\n",
              "\n",
              "    .dataframe tbody tr th {\n",
              "        vertical-align: top;\n",
              "    }\n",
              "\n",
              "    .dataframe thead th {\n",
              "        text-align: right;\n",
              "    }\n",
              "</style>\n",
              "<table border=\"1\" class=\"dataframe\">\n",
              "  <thead>\n",
              "    <tr style=\"text-align: right;\">\n",
              "      <th></th>\n",
              "      <th>URL_ID</th>\n",
              "      <th>URL</th>\n",
              "      <th>POSITIVE SCORE</th>\n",
              "      <th>NEGATIVE SCORE</th>\n",
              "      <th>POLARITY SCORE</th>\n",
              "      <th>SUBJECTIVITY SCORE</th>\n",
              "      <th>AVG SENTENCE LENGTH</th>\n",
              "      <th>PERCENTAGE OF COMPLEX WORDS</th>\n",
              "      <th>FOG INDEX</th>\n",
              "      <th>AVG NUMBER OF WORDS PER SENTENCE</th>\n",
              "      <th>COMPLEX WORD COUNT</th>\n",
              "      <th>WORD COUNT</th>\n",
              "      <th>SYLLABLE PER WORD</th>\n",
              "      <th>PERSONAL PRONOUNS</th>\n",
              "      <th>AVG WORD LENGTH</th>\n",
              "    </tr>\n",
              "  </thead>\n",
              "  <tbody>\n",
              "    <tr>\n",
              "      <th>0</th>\n",
              "      <td>37.0</td>\n",
              "      <td>https://insights.blackcoffer.com/ai-in-healthc...</td>\n",
              "      <td>44</td>\n",
              "      <td>27</td>\n",
              "      <td>0.239437</td>\n",
              "      <td>0.068401</td>\n",
              "      <td>20.352941</td>\n",
              "      <td>57.225434</td>\n",
              "      <td>31.031350</td>\n",
              "      <td>20.352941</td>\n",
              "      <td>594</td>\n",
              "      <td>1038</td>\n",
              "      <td>2.805395</td>\n",
              "      <td>21</td>\n",
              "      <td>7.319846</td>\n",
              "    </tr>\n",
              "    <tr>\n",
              "      <th>1</th>\n",
              "      <td>38.0</td>\n",
              "      <td>https://insights.blackcoffer.com/what-if-the-c...</td>\n",
              "      <td>39</td>\n",
              "      <td>28</td>\n",
              "      <td>0.164179</td>\n",
              "      <td>0.110561</td>\n",
              "      <td>10.821429</td>\n",
              "      <td>47.359736</td>\n",
              "      <td>23.272466</td>\n",
              "      <td>10.821429</td>\n",
              "      <td>287</td>\n",
              "      <td>606</td>\n",
              "      <td>2.608911</td>\n",
              "      <td>33</td>\n",
              "      <td>6.747525</td>\n",
              "    </tr>\n",
              "    <tr>\n",
              "      <th>2</th>\n",
              "      <td>39.0</td>\n",
              "      <td>https://insights.blackcoffer.com/what-jobs-wil...</td>\n",
              "      <td>48</td>\n",
              "      <td>25</td>\n",
              "      <td>0.315068</td>\n",
              "      <td>0.084983</td>\n",
              "      <td>13.215385</td>\n",
              "      <td>60.884750</td>\n",
              "      <td>29.640054</td>\n",
              "      <td>13.215385</td>\n",
              "      <td>523</td>\n",
              "      <td>859</td>\n",
              "      <td>2.927823</td>\n",
              "      <td>20</td>\n",
              "      <td>7.536671</td>\n",
              "    </tr>\n",
              "    <tr>\n",
              "      <th>3</th>\n",
              "      <td>40.0</td>\n",
              "      <td>https://insights.blackcoffer.com/will-machine-...</td>\n",
              "      <td>35</td>\n",
              "      <td>22</td>\n",
              "      <td>0.228070</td>\n",
              "      <td>0.082729</td>\n",
              "      <td>10.439394</td>\n",
              "      <td>46.734398</td>\n",
              "      <td>22.869517</td>\n",
              "      <td>10.439394</td>\n",
              "      <td>322</td>\n",
              "      <td>689</td>\n",
              "      <td>2.615385</td>\n",
              "      <td>49</td>\n",
              "      <td>6.732946</td>\n",
              "    </tr>\n",
              "    <tr>\n",
              "      <th>4</th>\n",
              "      <td>41.0</td>\n",
              "      <td>https://insights.blackcoffer.com/will-ai-repla...</td>\n",
              "      <td>37</td>\n",
              "      <td>22</td>\n",
              "      <td>0.254237</td>\n",
              "      <td>0.071429</td>\n",
              "      <td>16.520000</td>\n",
              "      <td>47.820823</td>\n",
              "      <td>25.736329</td>\n",
              "      <td>16.520000</td>\n",
              "      <td>395</td>\n",
              "      <td>826</td>\n",
              "      <td>2.544794</td>\n",
              "      <td>46</td>\n",
              "      <td>6.881356</td>\n",
              "    </tr>\n",
              "    <tr>\n",
              "      <th>...</th>\n",
              "      <td>...</td>\n",
              "      <td>...</td>\n",
              "      <td>...</td>\n",
              "      <td>...</td>\n",
              "      <td>...</td>\n",
              "      <td>...</td>\n",
              "      <td>...</td>\n",
              "      <td>...</td>\n",
              "      <td>...</td>\n",
              "      <td>...</td>\n",
              "      <td>...</td>\n",
              "      <td>...</td>\n",
              "      <td>...</td>\n",
              "      <td>...</td>\n",
              "      <td>...</td>\n",
              "    </tr>\n",
              "    <tr>\n",
              "      <th>109</th>\n",
              "      <td>146.0</td>\n",
              "      <td>https://insights.blackcoffer.com/blockchain-fo...</td>\n",
              "      <td>19</td>\n",
              "      <td>26</td>\n",
              "      <td>-0.155556</td>\n",
              "      <td>0.093946</td>\n",
              "      <td>11.975000</td>\n",
              "      <td>43.215031</td>\n",
              "      <td>22.076013</td>\n",
              "      <td>11.975000</td>\n",
              "      <td>207</td>\n",
              "      <td>479</td>\n",
              "      <td>2.519833</td>\n",
              "      <td>15</td>\n",
              "      <td>7.08977</td>\n",
              "    </tr>\n",
              "    <tr>\n",
              "      <th>110</th>\n",
              "      <td>147.0</td>\n",
              "      <td>https://insights.blackcoffer.com/the-future-of...</td>\n",
              "      <td>21</td>\n",
              "      <td>11</td>\n",
              "      <td>0.312500</td>\n",
              "      <td>0.054701</td>\n",
              "      <td>15.394737</td>\n",
              "      <td>49.401709</td>\n",
              "      <td>25.918578</td>\n",
              "      <td>15.394737</td>\n",
              "      <td>289</td>\n",
              "      <td>585</td>\n",
              "      <td>2.584615</td>\n",
              "      <td>24</td>\n",
              "      <td>6.878632</td>\n",
              "    </tr>\n",
              "    <tr>\n",
              "      <th>111</th>\n",
              "      <td>148.0</td>\n",
              "      <td>https://insights.blackcoffer.com/big-data-anal...</td>\n",
              "      <td>18</td>\n",
              "      <td>28</td>\n",
              "      <td>-0.217391</td>\n",
              "      <td>0.078365</td>\n",
              "      <td>9.467742</td>\n",
              "      <td>55.025554</td>\n",
              "      <td>25.797318</td>\n",
              "      <td>9.467742</td>\n",
              "      <td>323</td>\n",
              "      <td>587</td>\n",
              "      <td>2.638842</td>\n",
              "      <td>9</td>\n",
              "      <td>6.88075</td>\n",
              "    </tr>\n",
              "    <tr>\n",
              "      <th>112</th>\n",
              "      <td>149.0</td>\n",
              "      <td>https://insights.blackcoffer.com/business-anal...</td>\n",
              "      <td>19</td>\n",
              "      <td>5</td>\n",
              "      <td>0.583333</td>\n",
              "      <td>0.083624</td>\n",
              "      <td>17.937500</td>\n",
              "      <td>60.278746</td>\n",
              "      <td>31.286498</td>\n",
              "      <td>17.937500</td>\n",
              "      <td>173</td>\n",
              "      <td>287</td>\n",
              "      <td>2.937282</td>\n",
              "      <td>6</td>\n",
              "      <td>7.867596</td>\n",
              "    </tr>\n",
              "    <tr>\n",
              "      <th>113</th>\n",
              "      <td>150.0</td>\n",
              "      <td>https://insights.blackcoffer.com/challenges-an...</td>\n",
              "      <td>22</td>\n",
              "      <td>35</td>\n",
              "      <td>-0.228070</td>\n",
              "      <td>0.112871</td>\n",
              "      <td>8.278689</td>\n",
              "      <td>50.099010</td>\n",
              "      <td>23.351079</td>\n",
              "      <td>8.278689</td>\n",
              "      <td>253</td>\n",
              "      <td>505</td>\n",
              "      <td>2.70495</td>\n",
              "      <td>21</td>\n",
              "      <td>7.055446</td>\n",
              "    </tr>\n",
              "  </tbody>\n",
              "</table>\n",
              "<p>114 rows × 15 columns</p>\n",
              "</div>\n",
              "      <button class=\"colab-df-convert\" onclick=\"convertToInteractive('df-f2d78511-4714-4c4a-9302-0b3b6e4ccb57')\"\n",
              "              title=\"Convert this dataframe to an interactive table.\"\n",
              "              style=\"display:none;\">\n",
              "        \n",
              "  <svg xmlns=\"http://www.w3.org/2000/svg\" height=\"24px\"viewBox=\"0 0 24 24\"\n",
              "       width=\"24px\">\n",
              "    <path d=\"M0 0h24v24H0V0z\" fill=\"none\"/>\n",
              "    <path d=\"M18.56 5.44l.94 2.06.94-2.06 2.06-.94-2.06-.94-.94-2.06-.94 2.06-2.06.94zm-11 1L8.5 8.5l.94-2.06 2.06-.94-2.06-.94L8.5 2.5l-.94 2.06-2.06.94zm10 10l.94 2.06.94-2.06 2.06-.94-2.06-.94-.94-2.06-.94 2.06-2.06.94z\"/><path d=\"M17.41 7.96l-1.37-1.37c-.4-.4-.92-.59-1.43-.59-.52 0-1.04.2-1.43.59L10.3 9.45l-7.72 7.72c-.78.78-.78 2.05 0 2.83L4 21.41c.39.39.9.59 1.41.59.51 0 1.02-.2 1.41-.59l7.78-7.78 2.81-2.81c.8-.78.8-2.07 0-2.86zM5.41 20L4 18.59l7.72-7.72 1.47 1.35L5.41 20z\"/>\n",
              "  </svg>\n",
              "      </button>\n",
              "      \n",
              "  <style>\n",
              "    .colab-df-container {\n",
              "      display:flex;\n",
              "      flex-wrap:wrap;\n",
              "      gap: 12px;\n",
              "    }\n",
              "\n",
              "    .colab-df-convert {\n",
              "      background-color: #E8F0FE;\n",
              "      border: none;\n",
              "      border-radius: 50%;\n",
              "      cursor: pointer;\n",
              "      display: none;\n",
              "      fill: #1967D2;\n",
              "      height: 32px;\n",
              "      padding: 0 0 0 0;\n",
              "      width: 32px;\n",
              "    }\n",
              "\n",
              "    .colab-df-convert:hover {\n",
              "      background-color: #E2EBFA;\n",
              "      box-shadow: 0px 1px 2px rgba(60, 64, 67, 0.3), 0px 1px 3px 1px rgba(60, 64, 67, 0.15);\n",
              "      fill: #174EA6;\n",
              "    }\n",
              "\n",
              "    [theme=dark] .colab-df-convert {\n",
              "      background-color: #3B4455;\n",
              "      fill: #D2E3FC;\n",
              "    }\n",
              "\n",
              "    [theme=dark] .colab-df-convert:hover {\n",
              "      background-color: #434B5C;\n",
              "      box-shadow: 0px 1px 3px 1px rgba(0, 0, 0, 0.15);\n",
              "      filter: drop-shadow(0px 1px 2px rgba(0, 0, 0, 0.3));\n",
              "      fill: #FFFFFF;\n",
              "    }\n",
              "  </style>\n",
              "\n",
              "      <script>\n",
              "        const buttonEl =\n",
              "          document.querySelector('#df-f2d78511-4714-4c4a-9302-0b3b6e4ccb57 button.colab-df-convert');\n",
              "        buttonEl.style.display =\n",
              "          google.colab.kernel.accessAllowed ? 'block' : 'none';\n",
              "\n",
              "        async function convertToInteractive(key) {\n",
              "          const element = document.querySelector('#df-f2d78511-4714-4c4a-9302-0b3b6e4ccb57');\n",
              "          const dataTable =\n",
              "            await google.colab.kernel.invokeFunction('convertToInteractive',\n",
              "                                                     [key], {});\n",
              "          if (!dataTable) return;\n",
              "\n",
              "          const docLinkHtml = 'Like what you see? Visit the ' +\n",
              "            '<a target=\"_blank\" href=https://colab.research.google.com/notebooks/data_table.ipynb>data table notebook</a>'\n",
              "            + ' to learn more about interactive tables.';\n",
              "          element.innerHTML = '';\n",
              "          dataTable['output_type'] = 'display_data';\n",
              "          await google.colab.output.renderOutput(dataTable, element);\n",
              "          const docLink = document.createElement('div');\n",
              "          docLink.innerHTML = docLinkHtml;\n",
              "          element.appendChild(docLink);\n",
              "        }\n",
              "      </script>\n",
              "    </div>\n",
              "  </div>\n",
              "  "
            ]
          },
          "metadata": {},
          "execution_count": 82
        }
      ]
    },
    {
      "cell_type": "code",
      "source": [
        "#save the output data in the form of an excel file"
      ],
      "metadata": {
        "id": "RFn5rCF3C0oh"
      },
      "execution_count": null,
      "outputs": []
    },
    {
      "cell_type": "code",
      "source": [
        "os.chdir('/content/drive/MyDrive/BlackCoffer/')"
      ],
      "metadata": {
        "id": "YkUkhwtvDd46"
      },
      "execution_count": null,
      "outputs": []
    },
    {
      "cell_type": "code",
      "source": [
        "create_output_directory()"
      ],
      "metadata": {
        "id": "f0kX8cZADrd6"
      },
      "execution_count": null,
      "outputs": []
    },
    {
      "cell_type": "code",
      "source": [
        "os.chdir('Output')"
      ],
      "metadata": {
        "id": "2t2QY8XpDzzz"
      },
      "execution_count": null,
      "outputs": []
    },
    {
      "cell_type": "code",
      "source": [
        "output_frame.to_excel('output.xlsx', index=False)"
      ],
      "metadata": {
        "id": "ttjKlXEdEAbJ"
      },
      "execution_count": null,
      "outputs": []
    },
    {
      "cell_type": "code",
      "source": [],
      "metadata": {
        "id": "rbRTWZxYFdAX"
      },
      "execution_count": null,
      "outputs": []
    }
  ]
}